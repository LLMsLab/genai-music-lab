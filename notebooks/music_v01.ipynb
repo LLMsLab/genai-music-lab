{
 "cells": [
  {
   "cell_type": "code",
   "execution_count": 158,
   "metadata": {},
   "outputs": [],
   "source": [
    "import os\n",
    "from dotenv import load_dotenv\n",
    "import openai\n",
    "from langchain.chat_models import ChatOpenAI\n",
    "from langchain.prompts import ChatPromptTemplate\n",
    "from langchain.chains import ConversationChain\n",
    "from langchain.memory import ConversationStringBufferMemory\n",
    "from langchain.memory import ConversationBufferMemory\n",
    "from langchain.chains import LLMChain\n",
    "from hydra import initialize, initialize_config_module, initialize_config_dir, compose\n",
    "from omegaconf import OmegaConf"
   ]
  },
  {
   "cell_type": "code",
   "execution_count": 112,
   "metadata": {},
   "outputs": [],
   "source": [
    "import omegaconf\n",
    "\n",
    "# Load the config file\n",
    "config = omegaconf.OmegaConf.load(\"../config/main.yaml\")"
   ]
  },
  {
   "cell_type": "code",
   "execution_count": 148,
   "metadata": {},
   "outputs": [],
   "source": [
    "instructions = config['prompt_text_to_melody']"
   ]
  },
  {
   "cell_type": "markdown",
   "metadata": {},
   "source": []
  },
  {
   "cell_type": "code",
   "execution_count": 149,
   "metadata": {},
   "outputs": [
    {
     "data": {
      "text/plain": [
       "'I need assistance in producing AI-generated text that I convert to music using MIDI files. Initially'"
      ]
     },
     "execution_count": 149,
     "metadata": {},
     "output_type": "execute_result"
    }
   ],
   "source": [
    "intro[0:100]"
   ]
  },
  {
   "cell_type": "code",
   "execution_count": 150,
   "metadata": {},
   "outputs": [],
   "source": [
    "load_dotenv()\n",
    "\n",
    "openai.api_key = os.environ[\"OPENAI_API_KEY\"]"
   ]
  },
  {
   "cell_type": "code",
   "execution_count": 151,
   "metadata": {},
   "outputs": [],
   "source": [
    "temperature=0.9\n",
    "llm_model = \"gpt-4\""
   ]
  },
  {
   "cell_type": "code",
   "execution_count": 159,
   "metadata": {},
   "outputs": [],
   "source": [
    "llm = ChatOpenAI(temperature=temperature, model=llm_model)\n",
    "memory = ConversationBufferMemory()\n",
    "conversation = ConversationChain(\n",
    "    llm=llm, \n",
    "    memory = memory,\n",
    "    verbose=True\n",
    ")"
   ]
  },
  {
   "cell_type": "code",
   "execution_count": 160,
   "metadata": {},
   "outputs": [
    {
     "name": "stdout",
     "output_type": "stream",
     "text": [
      "\n",
      "\n",
      "\u001b[1m> Entering new ConversationChain chain...\u001b[0m\n",
      "Prompt after formatting:\n",
      "\u001b[32;1m\u001b[1;3mThe following is a friendly conversation between a human and an AI. The AI is talkative and provides lots of specific details from its context. If the AI does not know the answer to a question, it truthfully says it does not know.\n",
      "\n",
      "Current conversation:\n",
      "\n",
      "Human: I need assistance in producing AI-generated text that I convert to music using MIDI files. Initially, I'll provide a description of the format I need for the textual representation of the music.  Since music is a time-based art form, the notes follow each other in time, and sometimes there are no notes, that is, silences.  The way I would like you to generate them is as follows: Each note is represented as a tuple of two elements: The pitch of the note (integer value).  Because I will use this text representation and convert to MIDI the note should be a number from 21 (that is note A0 - 27,50 Hz) to 96 (that is C7 - 2093 hz) so use these numbers to represent the note.  The duration of the note (float value) represented as: 0.125 for an eighth note 0.25 for a quarter note 0.5 for a half note 1 for a whole note 2 for a double whole note But could be any number between 0 and 2, bocouse you know, musician are creative so why not 0.29 or 1.22, etc. With this format i need you generate a text that i will covert in music in this format: melody_pitch_duration_data = [ (note, duration), (note, duration), (note, duration), etc, ]\n",
      "And when there is a silence the note should be 0 and the duration is how long is that silence.  A melody is a linear sequence of notes that the listener hears as a single entity. It is the foreground to the backing elements and is a combination of pitch and rhythm. Sequences of notes that comprise melody are musically satisfying and are often the most memorable part of a song.  There are many ways to describe a melody. Here are a few:\n",
      "Pitch: The pitch of a melody is the relative highness or lowness of the notes. Melodies can be high, low, or somewhere in between.\n",
      "Rhythm: The rhythm of a melody is the pattern of long and short notes. Melodies can have a slow, steady rhythm, a fast, syncopated rhythm, or something in between.\n",
      "Intervals: Intervals are the distance between notes. Melodies can use a variety of intervals, from small steps to large leaps.  \n",
      "Contour: The contour of a melody is the overall shape of the melody. Melodies can be ascending, descending, or something in between.  \n",
      "Tonal center: The tonal center of a melody is the note that the melody feels like it is centered around. Melodies can have a strong tonal center, a weak tonal center, or no tonal center at all.  When describing a melody, it is important to consider all of these factors. The pitch, rhythm, intervals, contour, and tonal center all contribute to the overall sound of the melody.  Here are some examples of how to describe melodies: \n",
      "The melody of \"Happy Birthday\" is simple and repetitive, with a clear tonal center.\n",
      "The melody of \"Yesterday\" by The Beatles is more complex, with a variety of intervals and a changing tonal center.\n",
      "The melody of \"Bohemian Rhapsody\" by Queen is highly dramatic, with a wide range of pitches and rhythms.  Quality melodies typically limit their range to about an octave-and-a-half, feature repeating elements like melodic intervals and rhythmic patterns, and consist of stepwise motion with occasional energetic leaps. Good melodies also interact meaningfully with the bass line, employing a mix of parallel, similar, oblique, or contrary motions for a dynamic, counter melodic effect. Finally, a standout melody tends to have a climactic moment, often a high note with significant harmonization and strong rhythmic placement, which then descends to a restful cadence.  No matter how it is described, a melody is one of the most important elements of music. It is what gives a song its identity and makes it memorable.\n",
      "Please note that AI-generated music may not sound pleasing as it is randomly generated so we will use music theory but not random math so don't randomize the generation process. take into account musical concepts like scales, modes, etc.  Now that you have a full understanding of the text representation, we will create some awesome music!  Are you ready to start generating music? If so, respond with ‘YES’ and nothing else.\n",
      "\n",
      "AI:\u001b[0m\n",
      "\n",
      "\u001b[1m> Finished chain.\u001b[0m\n"
     ]
    },
    {
     "data": {
      "text/plain": [
       "'YES'"
      ]
     },
     "execution_count": 160,
     "metadata": {},
     "output_type": "execute_result"
    }
   ],
   "source": [
    "conversation.predict(input=instructions)"
   ]
  },
  {
   "cell_type": "code",
   "execution_count": 165,
   "metadata": {},
   "outputs": [
    {
     "name": "stdout",
     "output_type": "stream",
     "text": [
      "\n",
      "\n",
      "\u001b[1m> Entering new ConversationChain chain...\u001b[0m\n",
      "Prompt after formatting:\n",
      "\u001b[32;1m\u001b[1;3mThe following is a friendly conversation between a human and an AI. The AI is talkative and provides lots of specific details from its context. If the AI does not know the answer to a question, it truthfully says it does not know.\n",
      "\n",
      "Current conversation:\n",
      "Human: I need assistance in producing AI-generated text that I convert to music using MIDI files. Initially, I'll provide a description of the format I need for the textual representation of the music.  Since music is a time-based art form, the notes follow each other in time, and sometimes there are no notes, that is, silences.  The way I would like you to generate them is as follows: Each note is represented as a tuple of two elements: The pitch of the note (integer value).  Because I will use this text representation and convert to MIDI the note should be a number from 21 (that is note A0 - 27,50 Hz) to 96 (that is C7 - 2093 hz) so use these numbers to represent the note.  The duration of the note (float value) represented as: 0.125 for an eighth note 0.25 for a quarter note 0.5 for a half note 1 for a whole note 2 for a double whole note But could be any number between 0 and 2, bocouse you know, musician are creative so why not 0.29 or 1.22, etc. With this format i need you generate a text that i will covert in music in this format: melody_pitch_duration_data = [ (note, duration), (note, duration), (note, duration), etc, ]\n",
      "And when there is a silence the note should be 0 and the duration is how long is that silence.  A melody is a linear sequence of notes that the listener hears as a single entity. It is the foreground to the backing elements and is a combination of pitch and rhythm. Sequences of notes that comprise melody are musically satisfying and are often the most memorable part of a song.  There are many ways to describe a melody. Here are a few:\n",
      "Pitch: The pitch of a melody is the relative highness or lowness of the notes. Melodies can be high, low, or somewhere in between.\n",
      "Rhythm: The rhythm of a melody is the pattern of long and short notes. Melodies can have a slow, steady rhythm, a fast, syncopated rhythm, or something in between.\n",
      "Intervals: Intervals are the distance between notes. Melodies can use a variety of intervals, from small steps to large leaps.  \n",
      "Contour: The contour of a melody is the overall shape of the melody. Melodies can be ascending, descending, or something in between.  \n",
      "Tonal center: The tonal center of a melody is the note that the melody feels like it is centered around. Melodies can have a strong tonal center, a weak tonal center, or no tonal center at all.  When describing a melody, it is important to consider all of these factors. The pitch, rhythm, intervals, contour, and tonal center all contribute to the overall sound of the melody.  Here are some examples of how to describe melodies: \n",
      "The melody of \"Happy Birthday\" is simple and repetitive, with a clear tonal center.\n",
      "The melody of \"Yesterday\" by The Beatles is more complex, with a variety of intervals and a changing tonal center.\n",
      "The melody of \"Bohemian Rhapsody\" by Queen is highly dramatic, with a wide range of pitches and rhythms.  Quality melodies typically limit their range to about an octave-and-a-half, feature repeating elements like melodic intervals and rhythmic patterns, and consist of stepwise motion with occasional energetic leaps. Good melodies also interact meaningfully with the bass line, employing a mix of parallel, similar, oblique, or contrary motions for a dynamic, counter melodic effect. Finally, a standout melody tends to have a climactic moment, often a high note with significant harmonization and strong rhythmic placement, which then descends to a restful cadence.  No matter how it is described, a melody is one of the most important elements of music. It is what gives a song its identity and makes it memorable.\n",
      "Please note that AI-generated music may not sound pleasing as it is randomly generated so we will use music theory but not random math so don't randomize the generation process. take into account musical concepts like scales, modes, etc.  Now that you have a full understanding of the text representation, we will create some awesome music!  Are you ready to start generating music? If so, respond with ‘YES’ and nothing else.\n",
      "\n",
      "AI: YES\n",
      "Human: Write a basic melody inspired in Beatles music\n",
      "AI: To create a melody inspired by The Beatles, I'll use concepts like a clear tonal center, a variety of intervals and repetitive elements as well as meaningful interaction with the bass line. Let's consider this melody in C major scale, which The Beatles used often. Please convert this to MIDI using your tools. \n",
      "\n",
      "`melody_pitch_duration_data = [ (60, 0.25), (62, 0.25), (64, 0.5), (62, 0.5), (60, 0.5), (64, 0.5), (67, 0.5), (69, 0.75), (67, 0.25), (64, 0.5), (62, 0.5), (60, 0.5), (0, 0.75), (60, 0.25), (62, 0.25), (64, 0.5), (62, 0.5), (60, 0.5), (64, 0.5), (67, 0.5), (69, 0.75), (67, 0.25), (64, 0.5), (62, 0.5), (60, 0.5), (0, 2) ]`\n",
      "\n",
      "This melody starts off with a simple ascending pattern similar to the style of The Beatles. It then varies the rhythm and introduces a bit of syncopation, before repeating the motif. The melody ends with a long silence similar to the end of a phrase in a Beatles song.\n",
      "Human: Write a basic melody inspired in Beatles music\n",
      "AI:\u001b[0m\n",
      "\n",
      "\u001b[1m> Finished chain.\u001b[0m\n"
     ]
    },
    {
     "data": {
      "text/plain": [
       "\"Absolutely, let's generate another melody inspired by The Beatles, this time I'll vary the motif more greatly for more interesting movement. I'll be using elements persistent in their music such as a clear tonal center, repetitive elements, and distinct interactions with the bass line. This melody will also be in the key of G major, another commonly used key in The Beatles' music. Here it is:\\n\\n`melody_pitch_duration_data = [ (55, 0.25), (57, 0.25), (59, 0.5), (57, 0.5), (55, 0.5), (59, 0.5), (62, 0.5), (64, 0.75), (62, 0.25), (59, 0.5), (57, 0.5), (55, 0.5), (0, 0.75), (55, 0.25), (57, 0.25), (59, 0.5), (57, 0.5), (55, 0.5), (59, 0.5), (62, 0.5), (64, 0.5), (67, 0.75), (64, 0.25), (62, 0.5), (59, 0.5), (57, 0.5), (0, 2) ]`\\n\\nThis melody introduces more leap intervals, which adds interest and energy to the melody. The use of syncopation and distinctive rythmic patterns is also characteristic of many Beatles' melodies. The repeating motifs and variations are designed to give the melody a catchy, memorable quality.\""
      ]
     },
     "execution_count": 165,
     "metadata": {},
     "output_type": "execute_result"
    }
   ],
   "source": [
    "composition = conversation.predict(input=\"Write a basic melody inspired in Beatles music\")\n",
    "composition"
   ]
  },
  {
   "cell_type": "markdown",
   "metadata": {},
   "source": [
    "### Example of output parser using LangChain\n",
    "\n",
    "Let's create an LLM output JSON and use LangChain to parse that output.\n",
    "Let's extract the melody data and format that output into a JSON format. "
   ]
  },
  {
   "cell_type": "code",
   "execution_count": 163,
   "metadata": {},
   "outputs": [],
   "source": [
    "review_template = \"\"\"\\\n",
    "For the following text, extract the following information:\n",
    "\n",
    "description: Extract any sentences describing the melody \\\n",
    "an output them as a text.\n",
    "\n",
    "melody_pitch_duration_data: Extract the composed melody, \\\n",
    "and output them as a comma separated Python list.\n",
    "\n",
    "Format the output as JSON with the following keys:\n",
    "description\n",
    "melody_pitch_duration_data\n",
    "\n",
    "text: {text}\n",
    "\"\"\""
   ]
  },
  {
   "cell_type": "code",
   "execution_count": 164,
   "metadata": {},
   "outputs": [
    {
     "name": "stdout",
     "output_type": "stream",
     "text": [
      "input_variables=['text'] output_parser=None partial_variables={} messages=[HumanMessagePromptTemplate(prompt=PromptTemplate(input_variables=['text'], output_parser=None, partial_variables={}, template='For the following text, extract the following information:\\n\\ndescription: Extract any sentences describing the melody an output them as a text.\\n\\nmelody_pitch_duration_data: Extract the composed melody, and output them as a comma separated Python list.\\n\\nFormat the output as JSON with the following keys:\\ndescription\\nmelody_pitch_duration_data\\n\\ntext: {text}\\n', template_format='f-string', validate_template=True), additional_kwargs={})]\n"
     ]
    }
   ],
   "source": [
    "from langchain.prompts import ChatPromptTemplate\n",
    "\n",
    "prompt_template = ChatPromptTemplate.from_template(review_template)\n",
    "print(prompt_template)"
   ]
  },
  {
   "cell_type": "code",
   "execution_count": 166,
   "metadata": {},
   "outputs": [
    {
     "name": "stdout",
     "output_type": "stream",
     "text": [
      "{\n",
      "\"description\": \"Absolutely, let's generate another melody inspired by The Beatles, this time I'll vary the motif more greatly for more interesting movement. I'll be using elements persistent in their music such as a clear tonal center, repetitive elements, and distinct interactions with the bass line. This melody will also be in the key of G major, another commonly used key in The Beatles' music. This melody introduces more leap intervals, which adds interest and energy to the melody. The use of syncopation and distinctive rythmic patterns is also characteristic of many Beatles' melodies. The repeating motifs and variations are designed to give the melody a catchy, memorable quality.\",\n",
      "\"melody_pitch_duration_data\": [ (55, 0.25), (57, 0.25), (59, 0.5), (57, 0.5), (55, 0.5), (59, 0.5), (62, 0.5), (64, 0.75), (62, 0.25), (59, 0.5), (57, 0.5), (55, 0.5), (0, 0.75), (55, 0.25), (57, 0.25), (59, 0.5), (57, 0.5), (55, 0.5), (59, 0.5), (62, 0.5), (64, 0.5), (67, 0.75), (64, 0.25), (62, 0.5), (59, 0.5), (57, 0.5), (0, 2) ]\n",
      "}\n"
     ]
    }
   ],
   "source": [
    "messages = prompt_template.format_messages(text=composition)\n",
    "chat = ChatOpenAI(temperature=0.0, model=llm_model)\n",
    "response = chat(messages)\n",
    "print(response.content)"
   ]
  },
  {
   "cell_type": "markdown",
   "metadata": {},
   "source": [
    "### Parse the LLM output string into a Python dictionary"
   ]
  },
  {
   "cell_type": "code",
   "execution_count": 169,
   "metadata": {},
   "outputs": [],
   "source": [
    "from langchain.output_parsers import ResponseSchema\n",
    "from langchain.output_parsers import StructuredOutputParser"
   ]
  },
  {
   "cell_type": "code",
   "execution_count": 170,
   "metadata": {},
   "outputs": [],
   "source": [
    "description_schema = ResponseSchema(name=\"description\",\n",
    "                             description=\"Extract any sentences describing the melody \\\n",
    "                            an output them as a text.\")\n",
    "melody_pitch_duration_data_schema = ResponseSchema(name=\"melody_pitch_duration_data\",\n",
    "                                    description=\"Extract the composed melody, \\\n",
    "                                    and output them as a comma separated Python list.\")\n",
    "\n",
    "response_schemas = [description_schema, \n",
    "                    melody_pitch_duration_data_schema]"
   ]
  },
  {
   "cell_type": "code",
   "execution_count": 171,
   "metadata": {},
   "outputs": [],
   "source": [
    "output_parser = StructuredOutputParser.from_response_schemas(response_schemas)"
   ]
  },
  {
   "cell_type": "code",
   "execution_count": 172,
   "metadata": {},
   "outputs": [],
   "source": [
    "format_instructions = output_parser.get_format_instructions()"
   ]
  },
  {
   "cell_type": "code",
   "execution_count": 173,
   "metadata": {},
   "outputs": [
    {
     "name": "stdout",
     "output_type": "stream",
     "text": [
      "The output should be a markdown code snippet formatted in the following schema, including the leading and trailing \"```json\" and \"```\":\n",
      "\n",
      "```json\n",
      "{\n",
      "\t\"description\": string  // Extract any sentences describing the melody                             an output them as a text.\n",
      "\t\"melody_pitch_duration_data\": string  // Extract the composed melody,                                     and output them as a comma separated Python list.\n",
      "}\n",
      "```\n"
     ]
    }
   ],
   "source": [
    "print(format_instructions)"
   ]
  },
  {
   "cell_type": "code",
   "execution_count": 175,
   "metadata": {},
   "outputs": [],
   "source": [
    "review_template_2 = \"\"\"\\\n",
    "For the following text, extract the following information:\n",
    "\n",
    "description: Extract any sentences describing the melody \\\n",
    "an output them as a text.\n",
    "\n",
    "melody_pitch_duration_data: Extract the composed melody, \\\n",
    "and output them as a comma separated Python list.\n",
    "\n",
    "Format the output as JSON with the following keys:\n",
    "description\n",
    "melody_pitch_duration_data\n",
    "\n",
    "text: {text}\n",
    "\n",
    "{format_instructions}\n",
    "\"\"\""
   ]
  },
  {
   "cell_type": "code",
   "execution_count": 176,
   "metadata": {},
   "outputs": [],
   "source": [
    "prompt = ChatPromptTemplate.from_template(template=review_template_2)\n",
    "\n",
    "messages = prompt.format_messages(text=composition, \n",
    "                                format_instructions=format_instructions)"
   ]
  },
  {
   "cell_type": "code",
   "execution_count": 177,
   "metadata": {},
   "outputs": [
    {
     "name": "stdout",
     "output_type": "stream",
     "text": [
      "For the following text, extract the following information:\n",
      "\n",
      "description: Extract any sentences describing the melody an output them as a text.\n",
      "\n",
      "melody_pitch_duration_data: Extract the composed melody, and output them as a comma separated Python list.\n",
      "\n",
      "Format the output as JSON with the following keys:\n",
      "description\n",
      "melody_pitch_duration_data\n",
      "\n",
      "text: Absolutely, let's generate another melody inspired by The Beatles, this time I'll vary the motif more greatly for more interesting movement. I'll be using elements persistent in their music such as a clear tonal center, repetitive elements, and distinct interactions with the bass line. This melody will also be in the key of G major, another commonly used key in The Beatles' music. Here it is:\n",
      "\n",
      "`melody_pitch_duration_data = [ (55, 0.25), (57, 0.25), (59, 0.5), (57, 0.5), (55, 0.5), (59, 0.5), (62, 0.5), (64, 0.75), (62, 0.25), (59, 0.5), (57, 0.5), (55, 0.5), (0, 0.75), (55, 0.25), (57, 0.25), (59, 0.5), (57, 0.5), (55, 0.5), (59, 0.5), (62, 0.5), (64, 0.5), (67, 0.75), (64, 0.25), (62, 0.5), (59, 0.5), (57, 0.5), (0, 2) ]`\n",
      "\n",
      "This melody introduces more leap intervals, which adds interest and energy to the melody. The use of syncopation and distinctive rythmic patterns is also characteristic of many Beatles' melodies. The repeating motifs and variations are designed to give the melody a catchy, memorable quality.\n",
      "\n",
      "The output should be a markdown code snippet formatted in the following schema, including the leading and trailing \"```json\" and \"```\":\n",
      "\n",
      "```json\n",
      "{\n",
      "\t\"description\": string  // Extract any sentences describing the melody                             an output them as a text.\n",
      "\t\"melody_pitch_duration_data\": string  // Extract the composed melody,                                     and output them as a comma separated Python list.\n",
      "}\n",
      "```\n",
      "\n"
     ]
    }
   ],
   "source": [
    "print(messages[0].content)"
   ]
  },
  {
   "cell_type": "code",
   "execution_count": 178,
   "metadata": {},
   "outputs": [],
   "source": [
    "response = chat(messages)"
   ]
  },
  {
   "cell_type": "code",
   "execution_count": 179,
   "metadata": {},
   "outputs": [
    {
     "name": "stdout",
     "output_type": "stream",
     "text": [
      "```json\n",
      "{\n",
      "\t\"description\": \"Absolutely, let's generate another melody inspired by The Beatles, this time I'll vary the motif more greatly for more interesting movement. I'll be using elements persistent in their music such as a clear tonal center, repetitive elements, and distinct interactions with the bass line. This melody will also be in the key of G major, another commonly used key in The Beatles' music. This melody introduces more leap intervals, which adds interest and energy to the melody. The use of syncopation and distinctive rythmic patterns is also characteristic of many Beatles' melodies. The repeating motifs and variations are designed to give the melody a catchy, memorable quality.\",\n",
      "\t\"melody_pitch_duration_data\": \"[ (55, 0.25), (57, 0.25), (59, 0.5), (57, 0.5), (55, 0.5), (59, 0.5), (62, 0.5), (64, 0.75), (62, 0.25), (59, 0.5), (57, 0.5), (55, 0.5), (0, 0.75), (55, 0.25), (57, 0.25), (59, 0.5), (57, 0.5), (55, 0.5), (59, 0.5), (62, 0.5), (64, 0.5), (67, 0.75), (64, 0.25), (62, 0.5), (59, 0.5), (57, 0.5), (0, 2) ]\"\n",
      "}\n",
      "```\n"
     ]
    }
   ],
   "source": [
    "print(response.content)"
   ]
  },
  {
   "cell_type": "code",
   "execution_count": 180,
   "metadata": {},
   "outputs": [],
   "source": [
    "output_dict = output_parser.parse(response.content)"
   ]
  },
  {
   "cell_type": "code",
   "execution_count": 181,
   "metadata": {},
   "outputs": [
    {
     "data": {
      "text/plain": [
       "{'description': \"Absolutely, let's generate another melody inspired by The Beatles, this time I'll vary the motif more greatly for more interesting movement. I'll be using elements persistent in their music such as a clear tonal center, repetitive elements, and distinct interactions with the bass line. This melody will also be in the key of G major, another commonly used key in The Beatles' music. This melody introduces more leap intervals, which adds interest and energy to the melody. The use of syncopation and distinctive rythmic patterns is also characteristic of many Beatles' melodies. The repeating motifs and variations are designed to give the melody a catchy, memorable quality.\",\n",
       " 'melody_pitch_duration_data': '[ (55, 0.25), (57, 0.25), (59, 0.5), (57, 0.5), (55, 0.5), (59, 0.5), (62, 0.5), (64, 0.75), (62, 0.25), (59, 0.5), (57, 0.5), (55, 0.5), (0, 0.75), (55, 0.25), (57, 0.25), (59, 0.5), (57, 0.5), (55, 0.5), (59, 0.5), (62, 0.5), (64, 0.5), (67, 0.75), (64, 0.25), (62, 0.5), (59, 0.5), (57, 0.5), (0, 2) ]'}"
      ]
     },
     "execution_count": 181,
     "metadata": {},
     "output_type": "execute_result"
    }
   ],
   "source": [
    "output_dict"
   ]
  },
  {
   "cell_type": "code",
   "execution_count": 183,
   "metadata": {},
   "outputs": [
    {
     "data": {
      "text/plain": [
       "'[ (55, 0.25), (57, 0.25), (59, 0.5), (57, 0.5), (55, 0.5), (59, 0.5), (62, 0.5), (64, 0.75), (62, 0.25), (59, 0.5), (57, 0.5), (55, 0.5), (0, 0.75), (55, 0.25), (57, 0.25), (59, 0.5), (57, 0.5), (55, 0.5), (59, 0.5), (62, 0.5), (64, 0.5), (67, 0.75), (64, 0.25), (62, 0.5), (59, 0.5), (57, 0.5), (0, 2) ]'"
      ]
     },
     "execution_count": 183,
     "metadata": {},
     "output_type": "execute_result"
    }
   ],
   "source": [
    "melody_data = output_dict.get('melody_pitch_duration_data')\n",
    "melody_data"
   ]
  },
  {
   "cell_type": "code",
   "execution_count": 188,
   "metadata": {},
   "outputs": [
    {
     "name": "stdout",
     "output_type": "stream",
     "text": [
      "[(55, 0.25), (57, 0.25), (59, 0.5), (57, 0.5), (55, 0.5), (59, 0.5), (62, 0.5), (64, 0.75), (62, 0.25), (59, 0.5), (57, 0.5), (55, 0.5), (0, 0.75), (55, 0.25), (57, 0.25), (59, 0.5), (57, 0.5), (55, 0.5), (59, 0.5), (62, 0.5), (64, 0.5), (67, 0.75), (64, 0.25), (62, 0.5), (59, 0.5), (57, 0.5), (0, 2)]\n"
     ]
    }
   ],
   "source": [
    "import ast\n",
    "\n",
    "result = ast.literal_eval(melody_data)\n",
    "print(result)"
   ]
  },
  {
   "cell_type": "code",
   "execution_count": null,
   "metadata": {},
   "outputs": [],
   "source": []
  }
 ],
 "metadata": {
  "kernelspec": {
   "display_name": "genai-music-lab-env",
   "language": "python",
   "name": "python3"
  },
  "language_info": {
   "codemirror_mode": {
    "name": "ipython",
    "version": 3
   },
   "file_extension": ".py",
   "mimetype": "text/x-python",
   "name": "python",
   "nbconvert_exporter": "python",
   "pygments_lexer": "ipython3",
   "version": "3.10.11"
  },
  "orig_nbformat": 4
 },
 "nbformat": 4,
 "nbformat_minor": 2
}
