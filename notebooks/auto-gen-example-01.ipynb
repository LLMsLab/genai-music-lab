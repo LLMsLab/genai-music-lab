{
 "cells": [
  {
   "cell_type": "code",
   "execution_count": 16,
   "metadata": {},
   "outputs": [],
   "source": [
    "import os\n",
    "from dotenv import load_dotenv\n",
    "import openai\n",
    "from langchain.chat_models import ChatOpenAI\n",
    "from langchain.prompts import ChatPromptTemplate\n",
    "from langchain.chains import ConversationChain\n",
    "from langchain.memory import ConversationStringBufferMemory\n",
    "from langchain.memory import ConversationBufferMemory\n",
    "from langchain.chains import LLMChain\n",
    "from langchain.prompts import (\n",
    "    FewShotChatMessagePromptTemplate,\n",
    "    ChatPromptTemplate,\n",
    ")\n",
    "from langchain.prompts import SemanticSimilarityExampleSelector\n",
    "from langchain.embeddings import OpenAIEmbeddings\n",
    "from langchain.vectorstores import Chroma\n",
    "from langchain.output_parsers import ResponseSchema\n",
    "from langchain.output_parsers import StructuredOutputParser\n",
    "from hydra import initialize, initialize_config_module, initialize_config_dir, compose\n",
    "from omegaconf import OmegaConf\n",
    "import omegaconf"
   ]
  },
  {
   "cell_type": "code",
   "execution_count": 17,
   "metadata": {},
   "outputs": [
    {
     "name": "stdout",
     "output_type": "stream",
     "text": [
      "The autoreload extension is already loaded. To reload it, use:\n",
      "  %reload_ext autoreload\n"
     ]
    }
   ],
   "source": [
    "%load_ext autoreload\n",
    "%autoreload 2"
   ]
  },
  {
   "cell_type": "markdown",
   "metadata": {},
   "source": [
    "### Read data from YAML file\n",
    "\n",
    "The instructions and examples to build up a prompt based on few-shot\n",
    "examples are kept in a configuration YAML file.\n",
    "\n",
    "This code read data from a YAML file using the `OmegaConf` library, and\n",
    "convert an `OmegaConf` object to a standard Python list.\n",
    "\n",
    "This line loads the YAML file located at `\"../config/main.yaml\"` into a `config` object. The `config` object is an `OmegaConf` container that allows for easy access to the data in the YAML file."
   ]
  },
  {
   "cell_type": "code",
   "execution_count": 18,
   "metadata": {},
   "outputs": [],
   "source": [
    "# Load the config file\n",
    "config = omegaconf.OmegaConf.load(\"../config/main.yaml\")"
   ]
  },
  {
   "cell_type": "markdown",
   "metadata": {},
   "source": [
    "These lines access the data associated with the keys `\"instructions\"` and `\"examples\"` in the YAML file. The `instructions_text` variable will hold the text data, and `examples` will hold an `OmegaConf.ListConfig` object containing the list of dictionaries."
   ]
  },
  {
   "cell_type": "code",
   "execution_count": 19,
   "metadata": {},
   "outputs": [],
   "source": [
    "# Access the examples in the yaml file\n",
    "examples = config[\"examples\"]"
   ]
  },
  {
   "cell_type": "code",
   "execution_count": 20,
   "metadata": {},
   "outputs": [],
   "source": [
    "# Assuming examples is your ListConfig object\n",
    "examples = omegaconf.OmegaConf.to_container(examples, resolve=True)"
   ]
  },
  {
   "cell_type": "markdown",
   "metadata": {},
   "source": [
    "### Fixed few-shot prompting\n",
    "\n",
    "this approach follows LangChain [few-shot examples for chat models docs](https://python.langchain.com/docs/modules/model_io/prompts/prompt_templates/few_shot_examples_chat):"
   ]
  },
  {
   "cell_type": "code",
   "execution_count": 21,
   "metadata": {},
   "outputs": [],
   "source": [
    "load_dotenv()\n",
    "\n",
    "openai.api_key = os.environ[\"OPENAI_API_KEY\"]"
   ]
  },
  {
   "cell_type": "code",
   "execution_count": 22,
   "metadata": {},
   "outputs": [
    {
     "name": "stdout",
     "output_type": "stream",
     "text": [
      "Human: Generate a piece of music in ABC notation inspired by Scott Joplin's\n",
      "ragtime style. The piece should have syncopated rhythms with emphasis on\n",
      "off-beats, a structured form similar to A-A-B-B-A-C-C-D-D with each\n",
      "section being 16 bars, bright and memorable melodies, tonal harmonic\n",
      "progressions with chromatic passing tones and secondary dominants, and a\n",
      "steady 'oom-pah' bass pattern in the left hand. Include expressive\n",
      "markings, dynamic changes, and tempo indications to capture the spirited\n",
      "and expressive quality of ragtime.\n",
      "\n",
      "AI: X:357\n",
      "T:The Entertainer\n",
      "C:Scott Joplin, 1902, arranged Colin Hume\n",
      "L:1/8\n",
      "M:2/2\n",
      "R:Rag\n",
      "S:Colin Hume's website,  colinhume.com  - chords can also be printed below the stave.\n",
      "Q:1/2=76\n",
      "%%MIDI chordname dim 0 3 6 9\n",
      "N:For the dance \"The Heathfield Rag\" by Colin Hume\n",
      "K:C\n",
      "P:Intro\n",
      "[| d'e'c'a-abg2 | decA-ABG2 | DECA,-A,B,A,_A, | G,2 z2 [G,B,DG]2 ||\n",
      "P:Tune 1\n",
      "|: D^D | \"C\"Ec-cE \"C7\"c2Ec- | \"F\"c4- \"C/E\"ccd^d | \"C\"ecde- \"G7\"eBd2 | \"C\"c6 D^D |\n",
      "\"C\"Ec-cE \"C7\"c2Ec- | \"F\"c4- \"C/E\"c2AG | \"D7\"^FAce- \"/\"edcA | \"G\"d6 \"G7\"D^D |\n",
      "\"C\"Ec-cE \"C7\"c2Ec- | \"F\"c4- \"C/E\"ccd^d | \"C\"ecde- \"G7\"eBd2 | \"C\"c6 cd |\n",
      "\"C\"ecde- \"C7\"ecdc | \"F\"ecde- \"Fm\"ecdc | \"C/G\"ecde- \"G7\"eBd2 | \"C\"c6 :|\n",
      "P:Tune 2\n",
      "|: EF^F | \"C\"G2AG- \"/\"GEF^F | \"C\"G2AG- \"C7\"GECG, | \"F\"A,B,CD \"Fm\"EDCD | \"C\"G,4- \"/\"G,EF^F |\n",
      "\"C\"G2AG- \"/\"GEF^F | \"C\"G2AG- \"/\"GGA^A | \"D7\"BB-BB- \"/\"BA^FD | \"G\"G4-Gef^f |\n",
      "\"C\"g2ag- \"/\"gef^f | \"C\"g2ag- \"C7\"gecG | \"F\"ABcd \"Fm\"edcd | \"C\"c4- \"C7\"cG^FG |\n",
      "\"F\"c2Ac- \"Cdim/F#\"cAcA | \"C/G\"Gceg- \"Am\"gecG | \"D7\"A2 c2 \"G7\"ed-dc- | \"C\"c4 \"/\"z :|\n",
      "\n",
      "Human: Generate a piece of music in ABC notation inspired by Scott Joplin's\n",
      "ragtime style. The piece should have syncopated rhythms with emphasis on\n",
      "off-beats, a structured form similar to A-A-B-B-A-C-C-D-D with each\n",
      "section being 16 bars, bright and memorable melodies, tonal harmonic\n",
      "progressions with chromatic passing tones and secondary dominants, and a\n",
      "steady 'oom-pah' bass pattern in the left hand. Include expressive\n",
      "markings, dynamic changes, and tempo indications to capture the spirited\n",
      "and expressive quality of ragtime.\n",
      "\n",
      "AI: X: 1\n",
      "T: Maple Leaf Rag\n",
      "C: Scott Joplin (1899)\n",
      "R: rag\n",
      "Z: 2018 John Chambers <jc:trillian.mit.edu>\n",
      "M: 4/4\n",
      "L: 1/8\n",
      "P: AABBACC\n",
      "K: F\n",
      "\"A\"|: \"(C7)\"z2 |\\\n",
      "\"F\"zFcF Ac2F | \"C7\"cEGc- c4 | \"F\"zFcF Ac2F | \"C7\"cEGc- c4 |\\\n",
      "\"Db\"zF_A_d \"C\"zc2c | \"Db\"zF_A_d \"C\"zc3 |\n",
      "\"n.c.\"(F_Acf) (f_ac'f') | (F_Acf) (f_ac'f') |\\\n",
      "\"Fdim\"f2f2 f2ff- | \"F\"fcdA cd-d2 | \"Db\"FG_AF \"F\"G=A2F | \"F\"AF\"C7\".G2 \"F\".F2z2 |\n",
      "\"Fdim\"f2f2 f2ff- | \"F\"fcdA cd-d2 | \"Db\"FG_AF \"F\"G=A2F | \"F\"AF\"C7\".G2 \"F\".F2 \\\n",
      "\"B\":: \"(B/F#)\"z2 |\\\n",
      "\"C7\"zec'e g=b2e | _bega- acgc |\n",
      "\"F\"zAfA cd2c | \"F\"fAcd- dAd2 |\\\n",
      "\"C7\"zceG Bd2c | eGBd- dBd | \"F\"zAfA cd2c | fAcd- dAd2 |\n",
      "\"C7\"z!f!ec'e g=b2e | \"C7\"_bega- acgc | \"F\"z!mf!AfA cd2c | \"F\"f2[f2A2] \"E7\"[e2^G2]\"Eb\"[_e2=G2]|\\\n",
      "\"D\"zD^FA dAFD | \"G\"zDGB d2B2 |\n",
      "\"G7\"A2zA- \"C7\"AG3 | \"F\"zFAc \"F\"f2z2 \"C\"::\\\n",
      "\"Bb\".f2.d2 .f2.d2 | f2ga- ag\"/^G\"fd | \"F\"cd2A- A4 | \"F\"zcdA cd2A |\n",
      "\"C7\"cd2G- G4 | \"C7\"zBdG Bd2A |  \"F\"AcdA cd2A- | \"F\"AcdA cd2c |\\\n",
      "\"Bb\".f2.d2 .f2.d2 | \"Bb\"f2ga- \"/G\"ag\"^/G#\"fd |\n",
      "\"F\"f2d2 cf2A- | AcdA cd2F- |\\\n",
      "\"Db\"FGF2 \"/Bb\"F2\"/B\"GF- | \"C\"FGAF GA2F- | FGAF- FG3 |1 \"F\"F2c2 c2c2 :|2\n",
      "\"F\".f2z2 .[f2A2] |\n",
      "\n",
      "Human: Compose a simple minuet in ABC notation, embodying the style and\n",
      "grace characteristic of J.S. Bach's dance compositions.  Each\n",
      "piece should have a time signature of 3/4, reflecting the elegant\n",
      "triple meter typical of a minuet. The harmonic language should\n",
      "remain tonal, utilizing common practice progressions and\n",
      "modulations.  \n",
      "\n",
      "Structure: Each minuet should have a binary form (AABB), where\n",
      "each section (A and B) consists of 8 bars. A modulation to the\n",
      "dominant or relative major/minor in the B section would be\n",
      "appreciated, returning to the tonic by the end of the piece.\n",
      "\n",
      "Melody and Rhythm: Melodies should be balanced and singable, with\n",
      "a clear, simple rhythmic structure. Ornamentations such as trills\n",
      "or mordents, which are typical of the Baroque period, are\n",
      "encouraged. \n",
      "\n",
      "Bass Line: A continuous bass line should underpin the harmonic\n",
      "progressions, with a walking bass or arpeggiated figures to\n",
      "maintain a gentle, flowing rhythm.\n",
      "\n",
      "Dynamics and Articulation: Include dynamic markings and\n",
      "articulations to enhance the expressive quality and to guide the\n",
      "performer in interpreting the dance rhythms and phrasing. \n",
      "\n",
      "Key Signatures: Utilize different key signatures for each minuet\n",
      "to explore a variety of tonal colors.\n",
      "\n",
      "Tempo: Indicate a moderate tempo to reflect the graceful,\n",
      "leisurely character of the minuet dance form.\n",
      "\n",
      "The final output should provide a set of minuets that could be\n",
      "played as a suite, each exuding the charm and elegance typical of\n",
      "Bach's minuet compositions.\n",
      "\n",
      "AI: X: 6\n",
      "T: Bach Minuet 3\n",
      "C: J. S. Bach (1685-1750)\n",
      "M: 3/4\n",
      "L: 1/8\n",
      "K: G\n",
      "\"G\"\"_mf\"d2 (GA) Bc |   d2 .G2- .G2 |\"C\"e2 (cd) ef |\"G\"g2 .G2- .G2 |\\\n",
      "\"C\"     c2 (dc) BA |\"G\"B2 (cB)  AG |\"D\"F2 (GA) BG |   A6          |\n",
      "\"G\"     d2 (GA) Bc |   d2 .G2- .G2 |\"C\"e2 (cd) ef |\"G\"g2 .G2- .G2 |\\\n",
      "\"C\"     c2 (dc) BA |\"G\"B2 (cB)  AG |\"D\"A2 (BA) GF |\"G\"G6         : |\n",
      "|: \\\n",
      "\"G\"\"_f\"b2  (ga) bg |\"D\"a2 (de) fd |\"Em\" g2   (ef)     gd  |\"A\"^c2  Bc A2 |\\\n",
      "      (AB) ^cd  ef |   g2  f2  e2 | \"D\" f2  (.A2 \"A\".^c2) |\"D\" d6        |\n",
      "\"G\"\"_p\"d2   GF  G2 |\"C\"e2  GF  G2 | \"G\" d2  (.c2     .B2) |\"D\"(AG) FG A2 \"^I\"|\\\n",
      "      (DE)  FG  AB |   c2  B2  A2 | \"G\"(Bd) (.G2 \"D\" .F2) |\"G\" G6       : |\n",
      "\n",
      "Human: Compose a simple minuet in ABC notation, embodying the style and\n",
      "grace characteristic of J.S. Bach's dance compositions.  Each\n",
      "piece should have a time signature of 3/4, reflecting the elegant\n",
      "triple meter typical of a minuet. The harmonic language should\n",
      "remain tonal, utilizing common practice progressions and\n",
      "modulations.  \n",
      "\n",
      "Structure: Each minuet should have a binary form (AABB), where\n",
      "each section (A and B) consists of 8 bars. A modulation to the\n",
      "dominant or relative major/minor in the B section would be\n",
      "appreciated, returning to the tonic by the end of the piece.\n",
      "\n",
      "Melody and Rhythm: Melodies should be balanced and singable, with\n",
      "a clear, simple rhythmic structure. Ornamentations such as trills\n",
      "or mordents, which are typical of the Baroque period, are\n",
      "encouraged. \n",
      "\n",
      "Bass Line: A continuous bass line should underpin the harmonic\n",
      "progressions, with a walking bass or arpeggiated figures to\n",
      "maintain a gentle, flowing rhythm.\n",
      "\n",
      "Dynamics and Articulation: Include dynamic markings and\n",
      "articulations to enhance the expressive quality and to guide the\n",
      "performer in interpreting the dance rhythms and phrasing. \n",
      "\n",
      "Key Signatures: Utilize different key signatures for each minuet\n",
      "to explore a variety of tonal colors.\n",
      "\n",
      "Tempo: Indicate a moderate tempo to reflect the graceful,\n",
      "leisurely character of the minuet dance form.\n",
      "\n",
      "The final output should provide a set of minuets that could be\n",
      "played as a suite, each exuding the charm and elegance typical of\n",
      "Bach's minuet compositions.\n",
      "\n",
      "AI: X:1\n",
      "T:Minuet 1\n",
      "C: Bach, Johann Sebastian\n",
      "Z:John Heim <jheim@wiscmail.wisc.edu> abcusers 2004-3-11\n",
      "M:3/4\n",
      "L:1/4\n",
      "K:G\n",
      "d(dd)BA/2B/2GA(dc)B2Adc/2B/2A/2G/2ec/2B/2A/2G/2FE/2D/2FG2\n",
      "d(dd)BA/2B/2GA(dc)B2Adc/2B/2A/2G/2ec/2B/2A/2G/2FE/2D/2FG2\n",
      "Be2^cB/2^c/2Adefe/2d/2^c/2B/2Aag/2f/2e/2d/2bg/2f/2e/2d/2^cA^cd2\n",
      "dc/2B/2ABA/2B/2Gc2c/2B/2A2dc/2B/2A/2G/2ec/2B/2A/2G/2FE/2D/2FG2\n",
      "Be2^cB/2^c/2Adefe/2d/2^c/2B/2Aag/2f/2e/2d/2bg/2f/2e/2d/2^cA^cd2\n",
      "dc/2B/2ABA/2B/2Gc2c/2B/2A2dc/2B/2A/2G/2ec/2B/2A/2G/2FE/2D/2FG2\n",
      "\n"
     ]
    }
   ],
   "source": [
    "# This is a prompt template used to format each individual example.\n",
    "example_prompt = ChatPromptTemplate.from_messages(\n",
    "    [\n",
    "        (\"human\", \"{input}\"),\n",
    "        (\"ai\", \"{output}\"),\n",
    "    ]\n",
    ")\n",
    "few_shot_prompt = FewShotChatMessagePromptTemplate(\n",
    "    example_prompt=example_prompt,\n",
    "    examples=examples,\n",
    ")\n",
    "\n",
    "print(few_shot_prompt.format())"
   ]
  },
  {
   "cell_type": "code",
   "execution_count": 23,
   "metadata": {},
   "outputs": [],
   "source": [
    "final_prompt = ChatPromptTemplate.from_messages(\n",
    "    [\n",
    "        (\"system\", \"You are a wondrous wizard of music creation.\"),\n",
    "        few_shot_prompt,\n",
    "        (\"human\", \"{input}\"),\n",
    "    ]\n",
    ")"
   ]
  },
  {
   "cell_type": "markdown",
   "metadata": {},
   "source": [
    "- `temperature` number or null Optional Defaults to 1\n",
    "What sampling temperature to use, between 0 and 2. Higher values like 0.8 will make the output more random, while lower values like 0.2 will make it more focused and deterministic.\n",
    "We generally recommend altering this or `top_p` but not both.\n",
    "- `top_p` number or null Optional Defaults to 1\n",
    "An alternative to sampling with temperature, called nucleus sampling, where the model considers the results of the tokens with top_p probability mass. So 0.1 means only the tokens comprising the top 10% probability mass are considered.\n",
    "We generally recommend altering this or `temperature` but not both.\n",
    "- `frequency_penalty` number or null Optional Defaults to 0\n",
    "Number between -2.0 and 2.0. Positive values penalize new tokens based\n",
    "on their existing frequency in the text so far, decreasing the model's\n",
    "likelihood to repeat the same line verbatim.\n",
    "- `presence_penalty` number or null Optional Defaults to 0\n",
    "Number between -2.0 and 2.0. Positive values penalize new tokens based on whether they appear in the text so far, increasing the model's likelihood to talk about new topics.\n",
    "\n",
    "See more information about [frequency and presence\n",
    "penalties](https://platform.openai.com/docs/guides/gpt/parameter-details).\n",
    "\n",
    "The following article clarifies the difference between Frequency and\n",
    "Presence: [Frequency vs Presence penalty, what’s the difference? —\n",
    "OpenAI\n",
    "API](https://medium.com/@KTAsim/frequency-vs-presence-penalty-whats-the-difference-openai-api-51b0c4a7229e)\n",
    "\n",
    "Summary:\n",
    "\n",
    "- Frequency Penalty helps us avoid using the same words too often. It’s like telling the computer, “Hey, don’t repeat words too much.”\n",
    "- Presence Penalty, on the other hand, encourages using different words. It’s like saying, “Hey, use a variety of words, not just the same ones.”\n",
    "- So, Frequency Penalty stops repetition, while Presence Penalty encourages variety. They work differently but help make the text more interesting.\n",
    "\n",
    "Frequency and Presence penalties are not sides of the same coin:\n",
    "\n",
    "These two expressions share a common underlying aim of reducing repetition and promoting variety in word usage. However, they emphasize different aspects and are not strictly logically equivalent.\n",
    "\n",
    "1. **“Don’t repeat words too much”**:\n",
    "    - This expression directly addresses the issue of repetition. It instructs to avoid using the same words over and over, which is a straightforward directive against repetition.\n",
    "\n",
    "2. **“Use a variety of words, not just the same ones”**:\n",
    "    - This expression goes a step further by not only discouraging repetition (implied by the phrase \"not just the same ones\") but also actively encouraging diversity in word choice (implied by the phrase \"use a variety of words\"). \n",
    "\n",
    "The difference can be highlighted in a scenario where one adheres to the instruction of not repeating words too much but still uses a very limited vocabulary. They would be following the first expression but not the second. On the other hand, someone who uses a variety of words is likely adhering to both expressions.\n",
    "\n",
    "In a broader sense, the second expression encompasses the directive of the first but adds an additional directive to use a wider range of vocabulary. Hence, while they align in discouraging repetition, they diverge on the aspect of promoting diversity, making them not entirely equivalent."
   ]
  },
  {
   "cell_type": "code",
   "execution_count": 24,
   "metadata": {},
   "outputs": [],
   "source": [
    "llm_model = \"gpt-4\"\n",
    "temperature = 1\n",
    "other_parameters = {\"frequency_penalty\": 0, \"presence_penalty\": 0}"
   ]
  },
  {
   "cell_type": "code",
   "execution_count": 25,
   "metadata": {},
   "outputs": [],
   "source": [
    "llm = ChatOpenAI(temperature=temperature, model=llm_model, model_kwargs=other_parameters)\n",
    "memory = ConversationBufferMemory()\n",
    "conversation = ConversationChain(\n",
    "    llm=llm, \n",
    "    memory = memory,\n",
    "    verbose=True\n",
    ")"
   ]
  },
  {
   "cell_type": "code",
   "execution_count": 26,
   "metadata": {},
   "outputs": [],
   "source": [
    "chain = final_prompt | llm\n",
    "\n",
    "style = \"Scott Joplin's ragtime\"\n",
    "\n",
    "output = chain.invoke(\n",
    "    {\n",
    "        \"input\": f\"Generate a piece of music in ABC notation inspired by {style} style\"\n",
    "    }\n",
    ")"
   ]
  },
  {
   "cell_type": "code",
   "execution_count": 27,
   "metadata": {},
   "outputs": [
    {
     "name": "stdout",
     "output_type": "stream",
     "text": [
      "content='Here is a basic piece of music in \\'ABC\\' Notation inspired by the ragtime stylings of Scott Joplin:\\n\\n```\\nX:1\\nT:Ragtime Reflections\\nM:4/4\\nL:1/8\\nR:Ragtime\\nK:C\\n\"C\"c2c2 \"E7\"e2d2| \"A7\"c4       -c2d2| \"D7\"f2f2 \"G7\"g2f2| \"C\"e4       -e2c2|\\n\"C\"c2c2 \"E7\"e2d2| \"A7\"a2g2     -g2f2| \"D7\"d2d2 \"G7\"c2B2| \"C\"c6        c2   |\\n\"C7\"c2e2 g2e2  | \"F\"f4        -f2d2| \"C\"c2c2 \"G7\"BA^G^F| \"G7\"E4       -E2D2|\\n\"C\"C2E2 G2E2  | \"F\"F4        -F2D2| \"C\"e2c2 \"G7\"d2B2 | \"C\"c6        c2   |\\n```\\n\\nHere, each note represents the melody, while the letters in quotes represent the chords.' additional_kwargs={} example=False\n"
     ]
    }
   ],
   "source": [
    "print(output)"
   ]
  },
  {
   "cell_type": "markdown",
   "metadata": {},
   "source": [
    "### Dynamic few-shot prompting\n",
    "\n",
    "this approach follows LangChain [few-shot examples for chat models docs](https://python.langchain.com/docs/modules/model_io/prompts/prompt_templates/few_shot_examples_chat):"
   ]
  },
  {
   "cell_type": "markdown",
   "metadata": {},
   "source": [
    "Since we are using a vectorstore to select examples based on semantic similarity, we will want to first populate the store."
   ]
  },
  {
   "cell_type": "code",
   "execution_count": 28,
   "metadata": {},
   "outputs": [],
   "source": [
    "to_vectorize = [\" \".join(example.values()) for example in examples]\n",
    "embeddings = OpenAIEmbeddings()\n",
    "vectorstore = Chroma.from_texts(to_vectorize, embeddings, metadatas=examples)"
   ]
  },
  {
   "cell_type": "markdown",
   "metadata": {},
   "source": [
    "#### Create the  `example_selector`[​](https://python.langchain.com/docs/modules/model_io/prompts/prompt_templates/few_shot_examples_chat#create-the-example_selector \"Direct link to create-the-example_selector\")\n",
    "\n",
    "With a vectorstore created, you can create the  `example_selector`. Here we will isntruct it to only fetch the top 2 examples."
   ]
  },
  {
   "cell_type": "code",
   "execution_count": 29,
   "metadata": {},
   "outputs": [
    {
     "data": {
      "text/plain": [
       "[{'input': \"Compose a simple minuet in ABC notation, embodying the style and\\ngrace characteristic of J.S. Bach's dance compositions.  Each\\npiece should have a time signature of 3/4, reflecting the elegant\\ntriple meter typical of a minuet. The harmonic language should\\nremain tonal, utilizing common practice progressions and\\nmodulations.  \\n\\nStructure: Each minuet should have a binary form (AABB), where\\neach section (A and B) consists of 8 bars. A modulation to the\\ndominant or relative major/minor in the B section would be\\nappreciated, returning to the tonic by the end of the piece.\\n\\nMelody and Rhythm: Melodies should be balanced and singable, with\\na clear, simple rhythmic structure. Ornamentations such as trills\\nor mordents, which are typical of the Baroque period, are\\nencouraged. \\n\\nBass Line: A continuous bass line should underpin the harmonic\\nprogressions, with a walking bass or arpeggiated figures to\\nmaintain a gentle, flowing rhythm.\\n\\nDynamics and Articulation: Include dynamic markings and\\narticulations to enhance the expressive quality and to guide the\\nperformer in interpreting the dance rhythms and phrasing. \\n\\nKey Signatures: Utilize different key signatures for each minuet\\nto explore a variety of tonal colors.\\n\\nTempo: Indicate a moderate tempo to reflect the graceful,\\nleisurely character of the minuet dance form.\\n\\nThe final output should provide a set of minuets that could be\\nplayed as a suite, each exuding the charm and elegance typical of\\nBach's minuet compositions.\\n\",\n",
       "  'output': 'X: 6\\nT: Bach Minuet 3\\nC: J. S. Bach (1685-1750)\\nM: 3/4\\nL: 1/8\\nK: G\\n\"G\"\"_mf\"d2 (GA) Bc |   d2 .G2- .G2 |\"C\"e2 (cd) ef |\"G\"g2 .G2- .G2 |\\\\\\n\"C\"     c2 (dc) BA |\"G\"B2 (cB)  AG |\"D\"F2 (GA) BG |   A6          |\\n\"G\"     d2 (GA) Bc |   d2 .G2- .G2 |\"C\"e2 (cd) ef |\"G\"g2 .G2- .G2 |\\\\\\n\"C\"     c2 (dc) BA |\"G\"B2 (cB)  AG |\"D\"A2 (BA) GF |\"G\"G6         : |\\n|: \\\\\\n\"G\"\"_f\"b2  (ga) bg |\"D\"a2 (de) fd |\"Em\" g2   (ef)     gd  |\"A\"^c2  Bc A2 |\\\\\\n      (AB) ^cd  ef |   g2  f2  e2 | \"D\" f2  (.A2 \"A\".^c2) |\"D\" d6        |\\n\"G\"\"_p\"d2   GF  G2 |\"C\"e2  GF  G2 | \"G\" d2  (.c2     .B2) |\"D\"(AG) FG A2 \"^I\"|\\\\\\n      (DE)  FG  AB |   c2  B2  A2 | \"G\"(Bd) (.G2 \"D\" .F2) |\"G\" G6       : |\\n'},\n",
       " {'input': \"Compose a simple minuet in ABC notation, embodying the style and\\ngrace characteristic of J.S. Bach's dance compositions.  Each\\npiece should have a time signature of 3/4, reflecting the elegant\\ntriple meter typical of a minuet. The harmonic language should\\nremain tonal, utilizing common practice progressions and\\nmodulations.  \\n\\nStructure: Each minuet should have a binary form (AABB), where\\neach section (A and B) consists of 8 bars. A modulation to the\\ndominant or relative major/minor in the B section would be\\nappreciated, returning to the tonic by the end of the piece.\\n\\nMelody and Rhythm: Melodies should be balanced and singable, with\\na clear, simple rhythmic structure. Ornamentations such as trills\\nor mordents, which are typical of the Baroque period, are\\nencouraged. \\n\\nBass Line: A continuous bass line should underpin the harmonic\\nprogressions, with a walking bass or arpeggiated figures to\\nmaintain a gentle, flowing rhythm.\\n\\nDynamics and Articulation: Include dynamic markings and\\narticulations to enhance the expressive quality and to guide the\\nperformer in interpreting the dance rhythms and phrasing. \\n\\nKey Signatures: Utilize different key signatures for each minuet\\nto explore a variety of tonal colors.\\n\\nTempo: Indicate a moderate tempo to reflect the graceful,\\nleisurely character of the minuet dance form.\\n\\nThe final output should provide a set of minuets that could be\\nplayed as a suite, each exuding the charm and elegance typical of\\nBach's minuet compositions.\\n\",\n",
       "  'output': 'X:1\\nT:Minuet 1\\nC: Bach, Johann Sebastian\\nZ:John Heim <jheim@wiscmail.wisc.edu> abcusers 2004-3-11\\nM:3/4\\nL:1/4\\nK:G\\nd(dd)BA/2B/2GA(dc)B2Adc/2B/2A/2G/2ec/2B/2A/2G/2FE/2D/2FG2\\nd(dd)BA/2B/2GA(dc)B2Adc/2B/2A/2G/2ec/2B/2A/2G/2FE/2D/2FG2\\nBe2^cB/2^c/2Adefe/2d/2^c/2B/2Aag/2f/2e/2d/2bg/2f/2e/2d/2^cA^cd2\\ndc/2B/2ABA/2B/2Gc2c/2B/2A2dc/2B/2A/2G/2ec/2B/2A/2G/2FE/2D/2FG2\\nBe2^cB/2^c/2Adefe/2d/2^c/2B/2Aag/2f/2e/2d/2bg/2f/2e/2d/2^cA^cd2\\ndc/2B/2ABA/2B/2Gc2c/2B/2A2dc/2B/2A/2G/2ec/2B/2A/2G/2FE/2D/2FG2\\n'}]"
      ]
     },
     "execution_count": 29,
     "metadata": {},
     "output_type": "execute_result"
    }
   ],
   "source": [
    "example_selector = SemanticSimilarityExampleSelector(\n",
    "    vectorstore=vectorstore,\n",
    "    k=2,\n",
    ")\n",
    "\n",
    "# The prompt template will load examples by passing the input do the `select_examples` method\n",
    "example_selector.select_examples({\"input\": \"Bach\"})"
   ]
  },
  {
   "cell_type": "markdown",
   "metadata": {},
   "source": [
    "#### Create prompt template[​](https://python.langchain.com/docs/modules/model_io/prompts/prompt_templates/few_shot_examples_chat#create-prompt-template \"Direct link to Create prompt template\")\n",
    "\n",
    "Assemble the prompt template, using the  `example_selector`  created above."
   ]
  },
  {
   "cell_type": "code",
   "execution_count": 30,
   "metadata": {},
   "outputs": [],
   "source": [
    "from langchain.prompts import (\n",
    "    FewShotChatMessagePromptTemplate,\n",
    "    ChatPromptTemplate,\n",
    ")\n",
    "\n",
    "# Define the few-shot prompt.\n",
    "few_shot_prompt = FewShotChatMessagePromptTemplate(\n",
    "    # The input variables select the values to pass to the example_selector\n",
    "    input_variables=[\"input\"],\n",
    "    example_selector=example_selector,\n",
    "    # Define how each example will be formatted.\n",
    "    # In this case, each example will become 2 messages:\n",
    "    # 1 human, and 1 AI\n",
    "    example_prompt=ChatPromptTemplate.from_messages(\n",
    "        [(\"human\", \"{input}\"), (\"ai\", \"{output}\")]\n",
    "    ),\n",
    ")"
   ]
  },
  {
   "cell_type": "markdown",
   "metadata": {},
   "source": [
    "Below is an example of how this would be assembled."
   ]
  },
  {
   "cell_type": "code",
   "execution_count": 31,
   "metadata": {},
   "outputs": [
    {
     "name": "stdout",
     "output_type": "stream",
     "text": [
      "Human: Compose a simple minuet in ABC notation, embodying the style and\n",
      "grace characteristic of J.S. Bach's dance compositions.  Each\n",
      "piece should have a time signature of 3/4, reflecting the elegant\n",
      "triple meter typical of a minuet. The harmonic language should\n",
      "remain tonal, utilizing common practice progressions and\n",
      "modulations.  \n",
      "\n",
      "Structure: Each minuet should have a binary form (AABB), where\n",
      "each section (A and B) consists of 8 bars. A modulation to the\n",
      "dominant or relative major/minor in the B section would be\n",
      "appreciated, returning to the tonic by the end of the piece.\n",
      "\n",
      "Melody and Rhythm: Melodies should be balanced and singable, with\n",
      "a clear, simple rhythmic structure. Ornamentations such as trills\n",
      "or mordents, which are typical of the Baroque period, are\n",
      "encouraged. \n",
      "\n",
      "Bass Line: A continuous bass line should underpin the harmonic\n",
      "progressions, with a walking bass or arpeggiated figures to\n",
      "maintain a gentle, flowing rhythm.\n",
      "\n",
      "Dynamics and Articulation: Include dynamic markings and\n",
      "articulations to enhance the expressive quality and to guide the\n",
      "performer in interpreting the dance rhythms and phrasing. \n",
      "\n",
      "Key Signatures: Utilize different key signatures for each minuet\n",
      "to explore a variety of tonal colors.\n",
      "\n",
      "Tempo: Indicate a moderate tempo to reflect the graceful,\n",
      "leisurely character of the minuet dance form.\n",
      "\n",
      "The final output should provide a set of minuets that could be\n",
      "played as a suite, each exuding the charm and elegance typical of\n",
      "Bach's minuet compositions.\n",
      "\n",
      "AI: X:1\n",
      "T:Minuet 1\n",
      "C: Bach, Johann Sebastian\n",
      "Z:John Heim <jheim@wiscmail.wisc.edu> abcusers 2004-3-11\n",
      "M:3/4\n",
      "L:1/4\n",
      "K:G\n",
      "d(dd)BA/2B/2GA(dc)B2Adc/2B/2A/2G/2ec/2B/2A/2G/2FE/2D/2FG2\n",
      "d(dd)BA/2B/2GA(dc)B2Adc/2B/2A/2G/2ec/2B/2A/2G/2FE/2D/2FG2\n",
      "Be2^cB/2^c/2Adefe/2d/2^c/2B/2Aag/2f/2e/2d/2bg/2f/2e/2d/2^cA^cd2\n",
      "dc/2B/2ABA/2B/2Gc2c/2B/2A2dc/2B/2A/2G/2ec/2B/2A/2G/2FE/2D/2FG2\n",
      "Be2^cB/2^c/2Adefe/2d/2^c/2B/2Aag/2f/2e/2d/2bg/2f/2e/2d/2^cA^cd2\n",
      "dc/2B/2ABA/2B/2Gc2c/2B/2A2dc/2B/2A/2G/2ec/2B/2A/2G/2FE/2D/2FG2\n",
      "\n",
      "Human: Compose a simple minuet in ABC notation, embodying the style and\n",
      "grace characteristic of J.S. Bach's dance compositions.  Each\n",
      "piece should have a time signature of 3/4, reflecting the elegant\n",
      "triple meter typical of a minuet. The harmonic language should\n",
      "remain tonal, utilizing common practice progressions and\n",
      "modulations.  \n",
      "\n",
      "Structure: Each minuet should have a binary form (AABB), where\n",
      "each section (A and B) consists of 8 bars. A modulation to the\n",
      "dominant or relative major/minor in the B section would be\n",
      "appreciated, returning to the tonic by the end of the piece.\n",
      "\n",
      "Melody and Rhythm: Melodies should be balanced and singable, with\n",
      "a clear, simple rhythmic structure. Ornamentations such as trills\n",
      "or mordents, which are typical of the Baroque period, are\n",
      "encouraged. \n",
      "\n",
      "Bass Line: A continuous bass line should underpin the harmonic\n",
      "progressions, with a walking bass or arpeggiated figures to\n",
      "maintain a gentle, flowing rhythm.\n",
      "\n",
      "Dynamics and Articulation: Include dynamic markings and\n",
      "articulations to enhance the expressive quality and to guide the\n",
      "performer in interpreting the dance rhythms and phrasing. \n",
      "\n",
      "Key Signatures: Utilize different key signatures for each minuet\n",
      "to explore a variety of tonal colors.\n",
      "\n",
      "Tempo: Indicate a moderate tempo to reflect the graceful,\n",
      "leisurely character of the minuet dance form.\n",
      "\n",
      "The final output should provide a set of minuets that could be\n",
      "played as a suite, each exuding the charm and elegance typical of\n",
      "Bach's minuet compositions.\n",
      "\n",
      "AI: X: 6\n",
      "T: Bach Minuet 3\n",
      "C: J. S. Bach (1685-1750)\n",
      "M: 3/4\n",
      "L: 1/8\n",
      "K: G\n",
      "\"G\"\"_mf\"d2 (GA) Bc |   d2 .G2- .G2 |\"C\"e2 (cd) ef |\"G\"g2 .G2- .G2 |\\\n",
      "\"C\"     c2 (dc) BA |\"G\"B2 (cB)  AG |\"D\"F2 (GA) BG |   A6          |\n",
      "\"G\"     d2 (GA) Bc |   d2 .G2- .G2 |\"C\"e2 (cd) ef |\"G\"g2 .G2- .G2 |\\\n",
      "\"C\"     c2 (dc) BA |\"G\"B2 (cB)  AG |\"D\"A2 (BA) GF |\"G\"G6         : |\n",
      "|: \\\n",
      "\"G\"\"_f\"b2  (ga) bg |\"D\"a2 (de) fd |\"Em\" g2   (ef)     gd  |\"A\"^c2  Bc A2 |\\\n",
      "      (AB) ^cd  ef |   g2  f2  e2 | \"D\" f2  (.A2 \"A\".^c2) |\"D\" d6        |\n",
      "\"G\"\"_p\"d2   GF  G2 |\"C\"e2  GF  G2 | \"G\" d2  (.c2     .B2) |\"D\"(AG) FG A2 \"^I\"|\\\n",
      "      (DE)  FG  AB |   c2  B2  A2 | \"G\"(Bd) (.G2 \"D\" .F2) |\"G\" G6       : |\n",
      "\n"
     ]
    }
   ],
   "source": [
    "print(few_shot_prompt.format(input=\"Generate a piece of music in ABC notation inspired by Bach style\"))"
   ]
  },
  {
   "cell_type": "markdown",
   "metadata": {},
   "source": [
    "Assemble the final prompt template:"
   ]
  },
  {
   "cell_type": "code",
   "execution_count": 32,
   "metadata": {},
   "outputs": [],
   "source": [
    "final_prompt = ChatPromptTemplate.from_messages(\n",
    "    [\n",
    "        (\"system\", \"You are a wondrous wizard of music creation.\"),\n",
    "        few_shot_prompt,\n",
    "        (\"human\", \"{input}\"),\n",
    "    ]\n",
    ")"
   ]
  },
  {
   "cell_type": "code",
   "execution_count": 33,
   "metadata": {},
   "outputs": [
    {
     "name": "stdout",
     "output_type": "stream",
     "text": [
      "Human: Compose a simple minuet in ABC notation, embodying the style and\n",
      "grace characteristic of J.S. Bach's dance compositions.  Each\n",
      "piece should have a time signature of 3/4, reflecting the elegant\n",
      "triple meter typical of a minuet. The harmonic language should\n",
      "remain tonal, utilizing common practice progressions and\n",
      "modulations.  \n",
      "\n",
      "Structure: Each minuet should have a binary form (AABB), where\n",
      "each section (A and B) consists of 8 bars. A modulation to the\n",
      "dominant or relative major/minor in the B section would be\n",
      "appreciated, returning to the tonic by the end of the piece.\n",
      "\n",
      "Melody and Rhythm: Melodies should be balanced and singable, with\n",
      "a clear, simple rhythmic structure. Ornamentations such as trills\n",
      "or mordents, which are typical of the Baroque period, are\n",
      "encouraged. \n",
      "\n",
      "Bass Line: A continuous bass line should underpin the harmonic\n",
      "progressions, with a walking bass or arpeggiated figures to\n",
      "maintain a gentle, flowing rhythm.\n",
      "\n",
      "Dynamics and Articulation: Include dynamic markings and\n",
      "articulations to enhance the expressive quality and to guide the\n",
      "performer in interpreting the dance rhythms and phrasing. \n",
      "\n",
      "Key Signatures: Utilize different key signatures for each minuet\n",
      "to explore a variety of tonal colors.\n",
      "\n",
      "Tempo: Indicate a moderate tempo to reflect the graceful,\n",
      "leisurely character of the minuet dance form.\n",
      "\n",
      "The final output should provide a set of minuets that could be\n",
      "played as a suite, each exuding the charm and elegance typical of\n",
      "Bach's minuet compositions.\n",
      "\n",
      "AI: X:1\n",
      "T:Minuet 1\n",
      "C: Bach, Johann Sebastian\n",
      "Z:John Heim <jheim@wiscmail.wisc.edu> abcusers 2004-3-11\n",
      "M:3/4\n",
      "L:1/4\n",
      "K:G\n",
      "d(dd)BA/2B/2GA(dc)B2Adc/2B/2A/2G/2ec/2B/2A/2G/2FE/2D/2FG2\n",
      "d(dd)BA/2B/2GA(dc)B2Adc/2B/2A/2G/2ec/2B/2A/2G/2FE/2D/2FG2\n",
      "Be2^cB/2^c/2Adefe/2d/2^c/2B/2Aag/2f/2e/2d/2bg/2f/2e/2d/2^cA^cd2\n",
      "dc/2B/2ABA/2B/2Gc2c/2B/2A2dc/2B/2A/2G/2ec/2B/2A/2G/2FE/2D/2FG2\n",
      "Be2^cB/2^c/2Adefe/2d/2^c/2B/2Aag/2f/2e/2d/2bg/2f/2e/2d/2^cA^cd2\n",
      "dc/2B/2ABA/2B/2Gc2c/2B/2A2dc/2B/2A/2G/2ec/2B/2A/2G/2FE/2D/2FG2\n",
      "\n",
      "Human: Compose a simple minuet in ABC notation, embodying the style and\n",
      "grace characteristic of J.S. Bach's dance compositions.  Each\n",
      "piece should have a time signature of 3/4, reflecting the elegant\n",
      "triple meter typical of a minuet. The harmonic language should\n",
      "remain tonal, utilizing common practice progressions and\n",
      "modulations.  \n",
      "\n",
      "Structure: Each minuet should have a binary form (AABB), where\n",
      "each section (A and B) consists of 8 bars. A modulation to the\n",
      "dominant or relative major/minor in the B section would be\n",
      "appreciated, returning to the tonic by the end of the piece.\n",
      "\n",
      "Melody and Rhythm: Melodies should be balanced and singable, with\n",
      "a clear, simple rhythmic structure. Ornamentations such as trills\n",
      "or mordents, which are typical of the Baroque period, are\n",
      "encouraged. \n",
      "\n",
      "Bass Line: A continuous bass line should underpin the harmonic\n",
      "progressions, with a walking bass or arpeggiated figures to\n",
      "maintain a gentle, flowing rhythm.\n",
      "\n",
      "Dynamics and Articulation: Include dynamic markings and\n",
      "articulations to enhance the expressive quality and to guide the\n",
      "performer in interpreting the dance rhythms and phrasing. \n",
      "\n",
      "Key Signatures: Utilize different key signatures for each minuet\n",
      "to explore a variety of tonal colors.\n",
      "\n",
      "Tempo: Indicate a moderate tempo to reflect the graceful,\n",
      "leisurely character of the minuet dance form.\n",
      "\n",
      "The final output should provide a set of minuets that could be\n",
      "played as a suite, each exuding the charm and elegance typical of\n",
      "Bach's minuet compositions.\n",
      "\n",
      "AI: X: 6\n",
      "T: Bach Minuet 3\n",
      "C: J. S. Bach (1685-1750)\n",
      "M: 3/4\n",
      "L: 1/8\n",
      "K: G\n",
      "\"G\"\"_mf\"d2 (GA) Bc |   d2 .G2- .G2 |\"C\"e2 (cd) ef |\"G\"g2 .G2- .G2 |\\\n",
      "\"C\"     c2 (dc) BA |\"G\"B2 (cB)  AG |\"D\"F2 (GA) BG |   A6          |\n",
      "\"G\"     d2 (GA) Bc |   d2 .G2- .G2 |\"C\"e2 (cd) ef |\"G\"g2 .G2- .G2 |\\\n",
      "\"C\"     c2 (dc) BA |\"G\"B2 (cB)  AG |\"D\"A2 (BA) GF |\"G\"G6         : |\n",
      "|: \\\n",
      "\"G\"\"_f\"b2  (ga) bg |\"D\"a2 (de) fd |\"Em\" g2   (ef)     gd  |\"A\"^c2  Bc A2 |\\\n",
      "      (AB) ^cd  ef |   g2  f2  e2 | \"D\" f2  (.A2 \"A\".^c2) |\"D\" d6        |\n",
      "\"G\"\"_p\"d2   GF  G2 |\"C\"e2  GF  G2 | \"G\" d2  (.c2     .B2) |\"D\"(AG) FG A2 \"^I\"|\\\n",
      "      (DE)  FG  AB |   c2  B2  A2 | \"G\"(Bd) (.G2 \"D\" .F2) |\"G\" G6       : |\n",
      "\n"
     ]
    }
   ],
   "source": [
    "print(few_shot_prompt.format(input=\"Generate a piece of music in ABC notation inspired by Bach style\"))"
   ]
  },
  {
   "cell_type": "markdown",
   "metadata": {},
   "source": [
    "\n",
    "#### Use with an LLM[​](https://python.langchain.com/docs/modules/model_io/prompts/prompt_templates/few_shot_examples_chat#use-with-an-llm \"Direct link to Use with an LLM\")\n",
    "\n",
    "Now, you can connect your model to the few-shot prompt."
   ]
  },
  {
   "cell_type": "code",
   "execution_count": 34,
   "metadata": {},
   "outputs": [],
   "source": [
    "chain = final_prompt | llm\n",
    "\n",
    "style = \"Bach\"\n",
    "\n",
    "output = chain.invoke(\n",
    "    {\n",
    "        \"input\": f\"Generate a piece of music in ABC notation inspired by {style} style\"\n",
    "    }\n",
    ")"
   ]
  },
  {
   "cell_type": "code",
   "execution_count": 35,
   "metadata": {},
   "outputs": [
    {
     "name": "stdout",
     "output_type": "stream",
     "text": [
      "content='Sure, here is one more minuet:\\n\\nX: 7\\nT: Bach Minuet 4\\nC: J. S. Bach (1685-1750)\\nM: 3/4\\nL: 1/8\\nK: C\\n|: \"C\" G,ECC\\'2 | \"Am\" A,B,AA2 | \"Dm\" FAFE2 | \"G7\" D/B,/DG3 |\\n\"C\" G,ECC\\'2 | \"Am\" A,B,AA2 | \"Dm\" FAFE2 | \"G7\" G,B,/DA,3 :|\\n|: \"C\" e2g2e2 | \"G\" d2G2B2 | \"Am\" A2c2A2 | \"Em\" B2E2G2 |\\n\"F\" F2A2c2 | \"C\" E2G2c2 | \"Dm\" D2F2A2 | \"G7\" G/B,/DG3 :|' additional_kwargs={} example=False\n"
     ]
    }
   ],
   "source": [
    "print(output)"
   ]
  },
  {
   "cell_type": "markdown",
   "metadata": {},
   "source": [
    "### Parse the LLM output string into a Python dictionary\n",
    "\n",
    "Let's create an LLM output JSON and use LangChain to parse that output.\n",
    "Let's extract the melody data and format that output into a JSON format. "
   ]
  },
  {
   "cell_type": "code",
   "execution_count": 57,
   "metadata": {},
   "outputs": [],
   "source": [
    "description_schema = ResponseSchema(name=\"description\",\n",
    "                             description=\"Extract any sentences describing the melody \\\n",
    "                            an output them as a text.\")\n",
    "melody_pitch_duration_data_schema = ResponseSchema(name=\"melody_pitch_duration_data\",\n",
    "                                    description=\"\"\"\n",
    "    Extract the composed melody, and output them as a ABC music format.\n",
    "    Replace the new line symbols by spaces and create a new line. \n",
    "    \"\"\")\n",
    "\n",
    "response_schemas = [description_schema,\n",
    "                    melody_pitch_duration_data_schema]"
   ]
  },
  {
   "cell_type": "code",
   "execution_count": 58,
   "metadata": {},
   "outputs": [],
   "source": [
    "output_parser = StructuredOutputParser.from_response_schemas(response_schemas)"
   ]
  },
  {
   "cell_type": "code",
   "execution_count": 59,
   "metadata": {},
   "outputs": [],
   "source": [
    "format_instructions = output_parser.get_format_instructions()"
   ]
  },
  {
   "cell_type": "code",
   "execution_count": 60,
   "metadata": {},
   "outputs": [],
   "source": [
    "review_template = \"\"\"\\\n",
    "For the following text, extract the following information:\n",
    "\n",
    "description: Extract any sentences describing the melody \\\n",
    "an output them as a text.\n",
    "\n",
    "melody_pitch_duration_data: Extract the composed melody, \\\n",
    "and output them as a ABC music format like this:\n",
    "\n",
    "Extract the composed melody, and output them as a ABC music format.\n",
    "Replace the new line symbols by spaces and create a new line. \n",
    "\n",
    "Format the output as JSON with the following keys:\n",
    "description\n",
    "melody_pitch_duration_data\n",
    "\n",
    "text: {text}\n",
    "\n",
    "{format_instructions}\n",
    "\"\"\""
   ]
  },
  {
   "cell_type": "code",
   "execution_count": 61,
   "metadata": {},
   "outputs": [],
   "source": [
    "prompt = ChatPromptTemplate.from_template(template=review_template)\n",
    "\n",
    "messages = prompt.format_messages(text=output, \n",
    "                                format_instructions=format_instructions)"
   ]
  },
  {
   "cell_type": "code",
   "execution_count": 62,
   "metadata": {},
   "outputs": [],
   "source": [
    "chat = ChatOpenAI(temperature=0.0, model=llm_model)"
   ]
  },
  {
   "cell_type": "code",
   "execution_count": 63,
   "metadata": {},
   "outputs": [],
   "source": [
    "response = chat(messages)"
   ]
  },
  {
   "cell_type": "code",
   "execution_count": 64,
   "metadata": {},
   "outputs": [
    {
     "name": "stdout",
     "output_type": "stream",
     "text": [
      "```json\n",
      "{\n",
      "\t\"description\": \"Sure, here is one more minuet:\",\n",
      "\t\"melody_pitch_duration_data\": \"X: 7 T: Bach Minuet 4 C: J. S. Bach (1685-1750) M: 3/4 L: 1/8 K: C |: \\\"C\\\" G,ECC'2 | \\\"Am\\\" A,B,AA2 | \\\"Dm\\\" FAFE2 | \\\"G7\\\" D/B,/DG3 | \\\"C\\\" G,ECC'2 | \\\"Am\\\" A,B,AA2 | \\\"Dm\\\" FAFE2 | \\\"G7\\\" G,B,/DA,3 :| |: \\\"C\\\" e2g2e2 | \\\"G\\\" d2G2B2 | \\\"Am\\\" A2c2A2 | \\\"Em\\\" B2E2G2 | \\\"F\\\" F2A2c2 | \\\"C\\\" E2G2c2 | \\\"Dm\\\" D2F2A2 | \\\"G7\\\" G/B,/DG3 :|\"\n",
      "}\n",
      "```\n"
     ]
    }
   ],
   "source": [
    "print(response.content)"
   ]
  },
  {
   "cell_type": "code",
   "execution_count": 65,
   "metadata": {},
   "outputs": [],
   "source": [
    "output_dict = output_parser.parse(response.content)"
   ]
  },
  {
   "cell_type": "code",
   "execution_count": 66,
   "metadata": {},
   "outputs": [
    {
     "data": {
      "text/plain": [
       "{'description': 'Sure, here is one more minuet:',\n",
       " 'melody_pitch_duration_data': 'X: 7 T: Bach Minuet 4 C: J. S. Bach (1685-1750) M: 3/4 L: 1/8 K: C |: \"C\" G,ECC\\'2 | \"Am\" A,B,AA2 | \"Dm\" FAFE2 | \"G7\" D/B,/DG3 | \"C\" G,ECC\\'2 | \"Am\" A,B,AA2 | \"Dm\" FAFE2 | \"G7\" G,B,/DA,3 :| |: \"C\" e2g2e2 | \"G\" d2G2B2 | \"Am\" A2c2A2 | \"Em\" B2E2G2 | \"F\" F2A2c2 | \"C\" E2G2c2 | \"Dm\" D2F2A2 | \"G7\" G/B,/DG3 :|'}"
      ]
     },
     "execution_count": 66,
     "metadata": {},
     "output_type": "execute_result"
    }
   ],
   "source": [
    "output_dict"
   ]
  },
  {
   "cell_type": "code",
   "execution_count": 42,
   "metadata": {},
   "outputs": [
    {
     "data": {
      "text/plain": [
       "'X: 7\\nT: Bach Minuet 4\\nC: J. S. Bach (1685-1750)\\nM: 3/4\\nL: 1/8\\nK: C\\n|: \"C\" G,ECC\\'2 | \"Am\" A,B,AA2 | \"Dm\" FAFE2 | \"G7\" D/B,/DG3 |\\n\"C\" G,ECC\\'2 | \"Am\" A,B,AA2 | \"Dm\" FAFE2 | \"G7\" G,B,/DA,3 :|\\n|: \"C\" e2g2e2 | \"G\" d2G2B2 | \"Am\" A2c2A2 | \"Em\" B2E2G2 |\\n\"F\" F2A2c2 | \"C\" E2G2c2 | \"Dm\" D2F2A2 | \"G7\" G/B,/DG3 :|'"
      ]
     },
     "execution_count": 42,
     "metadata": {},
     "output_type": "execute_result"
    }
   ],
   "source": [
    "melody_data = output_dict.get('melody_pitch_duration_data')\n",
    "melody_data"
   ]
  },
  {
   "cell_type": "markdown",
   "metadata": {},
   "source": [
    "Save the string as a formatted ABC music notation file."
   ]
  },
  {
   "cell_type": "code",
   "execution_count": 68,
   "metadata": {},
   "outputs": [],
   "source": [
    "# Define the file name\n",
    "file_name = \"../data/processed/melody.abc\"\n",
    "\n",
    "# Write the melody data to an .abc file\n",
    "with open(file_name, 'w') as file:\n",
    "    file.write(melody_data)"
   ]
  },
  {
   "cell_type": "code",
   "execution_count": null,
   "metadata": {},
   "outputs": [],
   "source": [
    "//////////////////////"
   ]
  },
  {
   "cell_type": "code",
   "execution_count": null,
   "metadata": {},
   "outputs": [],
   "source": []
  },
  {
   "cell_type": "code",
   "execution_count": null,
   "metadata": {},
   "outputs": [],
   "source": [
    "note_to_midi = config['note_to_midi']"
   ]
  },
  {
   "cell_type": "code",
   "execution_count": null,
   "metadata": {},
   "outputs": [],
   "source": [
    "note_to_midi"
   ]
  },
  {
   "cell_type": "code",
   "execution_count": null,
   "metadata": {},
   "outputs": [],
   "source": [
    "type(melody_data)"
   ]
  },
  {
   "cell_type": "code",
   "execution_count": null,
   "metadata": {},
   "outputs": [],
   "source": [
    "from midiutil import MIDIFile"
   ]
  },
  {
   "cell_type": "code",
   "execution_count": null,
   "metadata": {},
   "outputs": [],
   "source": [
    "def note_to_midi_mapping():\n",
    "    \"\"\"\n",
    "    Create a dictionary to map note names to MIDI note numbers.\n",
    "    \n",
    "    Returns:\n",
    "        dict: A dictionary mapping note names to MIDI note numbers.\n",
    "    \"\"\"\n",
    "    # Define the mapping from note names to MIDI note numbers\n",
    "    note_to_midi = config['note_to_midi']\n",
    "    return note_to_midi"
   ]
  },
  {
   "cell_type": "code",
   "execution_count": null,
   "metadata": {},
   "outputs": [],
   "source": [
    "def create_midi_file(notes, filename=\"melody.mid\"):\n",
    "    \"\"\"\n",
    "    Create a MIDI file from a list of notes.\n",
    "    \n",
    "    Parameters:\n",
    "        notes (list): List of notes to include in the MIDI file.\n",
    "        filename (str): Name of the output MIDI file.\n",
    "    \"\"\"\n",
    "    # Initialize a MIDI file with one track\n",
    "    midi = MIDIFile(1)\n",
    "    \n",
    "    # Set the instrument to Acoustic Grand Piano (program number 0)\n",
    "    # The order is track, time, channel, program\n",
    "    midi.addProgramChange(0, 0, 0, 0)\n",
    "    \n",
    "    # Add notes to the MIDI file\n",
    "    for start_time, (pitch, duration) in enumerate(notes):\n",
    "        midi.addNote(0, 0, pitch, start_time, duration, 100)\n",
    "        \n",
    "    # Save the MIDI file\n",
    "    with open(filename, \"wb\") as output_file:\n",
    "        midi.writeFile(output_file)\n"
   ]
  },
  {
   "cell_type": "code",
   "execution_count": null,
   "metadata": {},
   "outputs": [],
   "source": [
    "melody_data"
   ]
  }
 ],
 "metadata": {
  "kernelspec": {
   "display_name": "genai-music-lab-env",
   "language": "python",
   "name": "python3"
  },
  "language_info": {
   "codemirror_mode": {
    "name": "ipython",
    "version": 3
   },
   "file_extension": ".py",
   "mimetype": "text/x-python",
   "name": "python",
   "nbconvert_exporter": "python",
   "pygments_lexer": "ipython3",
   "version": "3.10.11"
  },
  "orig_nbformat": 4
 },
 "nbformat": 4,
 "nbformat_minor": 2
}
