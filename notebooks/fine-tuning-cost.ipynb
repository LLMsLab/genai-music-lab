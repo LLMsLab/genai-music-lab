{
 "cells": [
  {
   "cell_type": "code",
   "execution_count": 2,
   "metadata": {},
   "outputs": [
    {
     "name": "stdout",
     "output_type": "stream",
     "text": [
      "Total tokens in JSON file: 1292541\n"
     ]
    }
   ],
   "source": [
    "import json\n",
    "import tiktoken\n",
    "from typing import List, Dict\n",
    "\n",
    "\n",
    "def load_json_file(file_path: str) -> List[Dict[str, List[Dict[str, str]]]]:\n",
    "    \"\"\"\n",
    "    Load a JSON file and return its content.\n",
    "\n",
    "    Parameters:\n",
    "    file_path (str): The path to the JSON file.\n",
    "\n",
    "    Returns:\n",
    "    List[Dict[str, List[Dict[str, str]]]]: The content of the JSON file.\n",
    "    \"\"\"\n",
    "    with open(file_path, \"r\", encoding=\"utf-8\") as file:\n",
    "        return json.load(file)\n",
    "\n",
    "\n",
    "def count_tokens_in_messages(\n",
    "    data: List[Dict[str, List[Dict[str, str]]]],\n",
    "    encoding_name: str = \"cl100k_base\",\n",
    ") -> int:\n",
    "    \"\"\"\n",
    "    Count the number of tokens in a list of messages using the specified encoding.\n",
    "\n",
    "    Parameters:\n",
    "    data (List[Dict[str, List[Dict[str, str]]]]): The data loaded from the JSON file.\n",
    "    encoding_name (str): The name of the encoding to use.\n",
    "\n",
    "    Returns:\n",
    "    int: The total number of tokens in the messages.\n",
    "    \"\"\"\n",
    "    encoding = tiktoken.get_encoding(encoding_name)\n",
    "    total_tokens = 0\n",
    "    for item in data:\n",
    "        messages = item.get(\"messages\", [])\n",
    "        for message in messages:\n",
    "            content = message.get(\"content\", \"\")\n",
    "            total_tokens += len(encoding.encode(content))\n",
    "    return total_tokens\n",
    "\n",
    "\n",
    "def main():\n",
    "    # Load data from a JSON file\n",
    "    file_path = \"../data/interim/final_dataset.json\"  # Replace this with the path to your JSON file\n",
    "    data = load_json_file(file_path)\n",
    "\n",
    "    # Count the number of tokens in the messages\n",
    "    total_tokens = count_tokens_in_messages(data)\n",
    "    print(f\"Total tokens in JSON file: {total_tokens}\")\n",
    "\n",
    "\n",
    "if __name__ == \"__main__\":\n",
    "    main()"
   ]
  },
  {
   "cell_type": "code",
   "execution_count": 5,
   "metadata": {},
   "outputs": [
    {
     "name": "stdout",
     "output_type": "stream",
     "text": [
      "Estimated total cost of fine-tuning: $31.02 USD\n"
     ]
    }
   ],
   "source": [
    "# Given values\n",
    "tokens_in_json_file = 1292541  # The total number of tokens in your JSON file\n",
    "cost_per_1k_tokens = (\n",
    "    0.0080  # The cost per 1,000 tokens for fine-tuning GPT-3.5 Turbo\n",
    ")\n",
    "number_of_epochs = 3  # The number of epochs you plan to train for (replace this with your actual number of epochs)\n",
    "\n",
    "# Calculate total cost\n",
    "total_tokens = (\n",
    "    tokens_in_json_file * number_of_epochs\n",
    ")  # Total number of tokens processed during fine-tuning\n",
    "total_cost = (\n",
    "    total_tokens / 1000\n",
    ") * cost_per_1k_tokens  # Total cost of fine-tuning\n",
    "\n",
    "# Print the result\n",
    "print(f\"Estimated total cost of fine-tuning: ${total_cost:.2f} USD\")"
   ]
  },
  {
   "cell_type": "markdown",
   "metadata": {},
   "source": [
    "Given the information provided, you can estimate the total cost of fine-tuning using the formula provided. Here's how you can calculate it in Python:\n",
    "\n",
    "```python\n",
    "# Given values\n",
    "tokens_in_json_file = 1292541  # The total number of tokens in your JSON file\n",
    "cost_per_1k_tokens = 0.0080  # The cost per 1,000 tokens for fine-tuning GPT-3.5 Turbo\n",
    "number_of_epochs = 3  # The number of epochs you plan to train for (replace this with your actual number of epochs)\n",
    "\n",
    "# Calculate total cost\n",
    "total_tokens = tokens_in_json_file * number_of_epochs  # Total number of tokens processed during fine-tuning\n",
    "total_cost = (total_tokens / 1000) * cost_per_1k_tokens  # Total cost of fine-tuning\n",
    "\n",
    "# Print the result\n",
    "print(f\"Estimated total cost of fine-tuning: ${total_cost:.2f} USD\")\n",
    "```\n",
    "\n",
    "Replace `number_of_epochs` with the actual number of epochs you plan to\n",
    "train for. When you run this script, it will calculate the total number\n",
    "of tokens processed during fine-tuning (which is the number of tokens in\n",
    "your JSON file multiplied by the number of epochs), then multiply this\n",
    "by the cost per 1,000 tokens to get the total cost of fine-tuning. The\n",
    "script will then print this total cost, formatted as a string with two\n",
    "decimal places.\n",
    "\n"
   ]
  },
  {
   "cell_type": "markdown",
   "metadata": {},
   "source": []
  }
 ],
 "metadata": {
  "kernelspec": {
   "display_name": "genai-music-lab-env",
   "language": "python",
   "name": "python3"
  },
  "language_info": {
   "codemirror_mode": {
    "name": "ipython",
    "version": 3
   },
   "file_extension": ".py",
   "mimetype": "text/x-python",
   "name": "python",
   "nbconvert_exporter": "python",
   "pygments_lexer": "ipython3",
   "version": "3.10.11"
  },
  "orig_nbformat": 4
 },
 "nbformat": 4,
 "nbformat_minor": 2
}
