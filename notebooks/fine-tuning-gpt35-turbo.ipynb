{
 "cells": [
  {
   "cell_type": "markdown",
   "metadata": {},
   "source": [
    "# Fine-tuning Using GPT 3.5 Turbo\n",
    "\n",
    "## Intro\n",
    "\n",
    "I created a smaller version of the actual dataset with only 26 data\n",
    "points. All 26 movements included are quite short.\n",
    "\n",
    "- `data/interim/final_dataset_small_26.json`\n",
    "\n",
    "The number of total tokens in JSON file: 178981. Using three epochs, the\n",
    "total cost must be $4.30 USD.\n",
    "\n",
    "> The actual cost has been $2.56 USD."
   ]
  },
  {
   "cell_type": "markdown",
   "metadata": {},
   "source": [
    "## Creating the training and test sets"
   ]
  },
  {
   "cell_type": "code",
   "execution_count": 9,
   "metadata": {},
   "outputs": [
    {
     "name": "stdout",
     "output_type": "stream",
     "text": [
      "The number of training samples in the file is: 26\n"
     ]
    }
   ],
   "source": [
    "import json\n",
    "\n",
    "def count_training_samples(file_path):\n",
    "    with open(file_path, 'r', encoding='utf-8') as file:\n",
    "        data = json.load(file)\n",
    "        return len(data)\n",
    "\n",
    "file_path = '../data/interim/final_dataset_small_26.json'\n",
    "print(f'The number of training samples in the file is: {count_training_samples(file_path)}')\n"
   ]
  },
  {
   "cell_type": "code",
   "execution_count": 1,
   "metadata": {},
   "outputs": [],
   "source": [
    "import json\n",
    "import os\n",
    "from sklearn.model_selection import train_test_split\n",
    "\n",
    "def split_dataset(input_file_path: str, train_file_path: str, test_file_path: str, test_size: float = 0.3, random_state: int = 42):\n",
    "    \"\"\"\n",
    "    Split a JSON dataset into training and test sets, and write them to separate files.\n",
    "\n",
    "    Parameters\n",
    "    ----------\n",
    "    input_file_path : str\n",
    "        Path to the input JSON file containing the dataset to be split.\n",
    "    train_file_path : str\n",
    "        Path to the output JSON file where the training set will be written.\n",
    "    test_file_path : str\n",
    "        Path to the output JSON file where the test set will be written.\n",
    "    test_size : float, optional\n",
    "        Proportion of the dataset to include in the test split, by default 0.3.\n",
    "    random_state : int, optional\n",
    "        Controls the shuffling applied to the data before applying the split, by default 42.\n",
    "\n",
    "    Raises\n",
    "    ------\n",
    "    FileNotFoundError\n",
    "        If the input file does not exist.\n",
    "    TypeError\n",
    "        If the data in the JSON file is not a list of objects.\n",
    "\n",
    "    Returns\n",
    "    -------\n",
    "    None\n",
    "    \"\"\"\n",
    "    # Ensure the input file exists\n",
    "    if not os.path.exists(input_file_path):\n",
    "        raise FileNotFoundError(f\"The input file at {input_file_path} does not exist.\")\n",
    "\n",
    "    # Load the data from the JSON file\n",
    "    with open(input_file_path, 'r') as infile:\n",
    "        data = json.load(infile)\n",
    "\n",
    "    # Ensure the data is a list\n",
    "    if not isinstance(data, list):\n",
    "        raise TypeError(\"The data in the JSON file should be a list of objects.\")\n",
    "\n",
    "    # Split the data into training and test sets\n",
    "    train_data, test_data = train_test_split(data, test_size=test_size, random_state=random_state)\n",
    "\n",
    "    # Write the training data to a JSON file\n",
    "    with open(train_file_path, 'w') as train_file:\n",
    "        json.dump(train_data, train_file, indent=4)\n",
    "\n",
    "    # Write the test data to a JSON file\n",
    "    with open(test_file_path, 'w') as test_file:\n",
    "        json.dump(test_data, test_file, indent=4)\n",
    "\n",
    "    print(f\"Data has been split and written to {train_file_path} and {test_file_path}\")"
   ]
  },
  {
   "cell_type": "code",
   "execution_count": 10,
   "metadata": {},
   "outputs": [
    {
     "name": "stdout",
     "output_type": "stream",
     "text": [
      "Data has been split and written to ../data/processed/train_dataset.json and ../data/processed/test_dataset.json\n"
     ]
    }
   ],
   "source": [
    "# Example usage:\n",
    "input_file_path = '../data/interim/final_dataset_small_26.json'\n",
    "train_file_path = '../data/processed/train_dataset.json'\n",
    "test_file_path = '../data/processed/test_dataset.json'\n",
    "\n",
    "split_dataset(input_file_path, train_file_path, test_file_path)\n"
   ]
  },
  {
   "cell_type": "markdown",
   "metadata": {},
   "source": [
    "Let's count the number of data points in the training dataset:"
   ]
  },
  {
   "cell_type": "code",
   "execution_count": 11,
   "metadata": {},
   "outputs": [
    {
     "name": "stdout",
     "output_type": "stream",
     "text": [
      "The number of training samples in the file is: 18\n"
     ]
    }
   ],
   "source": [
    "def count_training_samples(file_path):\n",
    "    with open(file_path, 'r', encoding='utf-8') as file:\n",
    "        data = json.load(file)\n",
    "        return len(data)\n",
    "\n",
    "file_path = '../data/processed/train_dataset.json'\n",
    "print(f'The number of training samples in the file is: {count_training_samples(file_path)}')"
   ]
  },
  {
   "cell_type": "markdown",
   "metadata": {},
   "source": [
    "Let's count the number of data points in the test dataset:"
   ]
  },
  {
   "cell_type": "code",
   "execution_count": 12,
   "metadata": {},
   "outputs": [
    {
     "name": "stdout",
     "output_type": "stream",
     "text": [
      "The number of training samples in the file is: 8\n"
     ]
    }
   ],
   "source": [
    "def count_training_samples(file_path):\n",
    "    with open(file_path, 'r', encoding='utf-8') as file:\n",
    "        data = json.load(file)\n",
    "        return len(data)\n",
    "\n",
    "file_path = '../data/processed/test_dataset.json'\n",
    "print(f'The number of training samples in the file is: {count_training_samples(file_path)}')"
   ]
  },
  {
   "cell_type": "code",
   "execution_count": 13,
   "metadata": {},
   "outputs": [
    {
     "data": {
      "text/plain": [
       "26"
      ]
     },
     "execution_count": 13,
     "metadata": {},
     "output_type": "execute_result"
    }
   ],
   "source": [
    "18 + 8"
   ]
  },
  {
   "cell_type": "code",
   "execution_count": 15,
   "metadata": {},
   "outputs": [],
   "source": [
    "import os\n",
    "import openai\n",
    "from dotenv import load_dotenv"
   ]
  },
  {
   "cell_type": "code",
   "execution_count": 16,
   "metadata": {},
   "outputs": [],
   "source": [
    "load_dotenv()\n",
    "\n",
    "openai.api_key = os.environ[\"OPENAI_API_KEY\"]"
   ]
  },
  {
   "cell_type": "markdown",
   "metadata": {},
   "source": [
    "OpenAI API expects the file to be in JSONL (JSON Lines) format, where\n",
    "each line in the file is a valid JSON object (dictionary). However, the\n",
    "file you are trying to upload (`train_dataset.json`) does not adhere to\n",
    "this format. The error message hints that the first line of your file\n",
    "starts with a \"[\" (opening bracket of a JSON array), which is not\n",
    "allowed in JSONL format.\n",
    "\n",
    "Solution: You need to convert your JSON file to JSONL format. Below is a\n",
    "general approach to convert a JSON file to JSONL:\n",
    "\n",
    "Read the JSON file and load the data.  Write each JSON object in the\n",
    "data to a new line in a JSONL file.  Here’s a Python script that\n",
    "demonstrates this process:"
   ]
  },
  {
   "cell_type": "code",
   "execution_count": 18,
   "metadata": {},
   "outputs": [],
   "source": [
    "import json\n",
    "\n",
    "# Step 1: Read JSON file and load the data\n",
    "with open(\"../data/processed/train_dataset.json\", 'r') as json_file:\n",
    "    data = json.load(json_file)\n",
    "\n",
    "# Step 2: Write each JSON object to a new line in a JSONL file\n",
    "with open(\"../data/processed/train_dataset.jsonl\", 'w') as jsonl_file:\n",
    "    for item in data:\n",
    "        jsonl_file.write(json.dumps(item))\n",
    "        jsonl_file.write('\\n')"
   ]
  },
  {
   "cell_type": "code",
   "execution_count": 19,
   "metadata": {},
   "outputs": [],
   "source": [
    "import json\n",
    "\n",
    "# Step 1: Read JSON file and load the data\n",
    "with open(\"../data/processed/test_dataset.json\", 'r') as json_file:\n",
    "    data = json.load(json_file)\n",
    "\n",
    "# Step 2: Write each JSON object to a new line in a JSONL file\n",
    "with open(\"../data/processed/test_dataset.jsonl\", 'w') as jsonl_file:\n",
    "    for item in data:\n",
    "        jsonl_file.write(json.dumps(item))\n",
    "        jsonl_file.write('\\n')"
   ]
  },
  {
   "cell_type": "markdown",
   "metadata": {},
   "source": [
    "Upload our training and evaluation files, in chat completion format:"
   ]
  },
  {
   "cell_type": "code",
   "execution_count": 20,
   "metadata": {},
   "outputs": [
    {
     "data": {
      "text/plain": [
       "<File file id=file-rQH5EIMDnEtCCnK8EQP0L8E3 at 0x11736e070> JSON: {\n",
       "  \"object\": \"file\",\n",
       "  \"id\": \"file-rQH5EIMDnEtCCnK8EQP0L8E3\",\n",
       "  \"purpose\": \"fine-tune\",\n",
       "  \"filename\": \"file\",\n",
       "  \"bytes\": 177744,\n",
       "  \"created_at\": 1696296774,\n",
       "  \"status\": \"uploaded\",\n",
       "  \"status_details\": null\n",
       "}"
      ]
     },
     "execution_count": 20,
     "metadata": {},
     "output_type": "execute_result"
    }
   ],
   "source": [
    "openai.File.create(\n",
    "    file=open(\"../data/processed/train_dataset.jsonl\", \"rb\"),\n",
    "    purpose=\"fine-tune\",\n",
    ")"
   ]
  },
  {
   "cell_type": "code",
   "execution_count": 21,
   "metadata": {},
   "outputs": [
    {
     "data": {
      "text/plain": [
       "<File file id=file-c9x5QPEBp7qH63emV9osTSJw at 0x16e6fad90> JSON: {\n",
       "  \"object\": \"file\",\n",
       "  \"id\": \"file-c9x5QPEBp7qH63emV9osTSJw\",\n",
       "  \"purpose\": \"fine-tune\",\n",
       "  \"filename\": \"file\",\n",
       "  \"bytes\": 86439,\n",
       "  \"created_at\": 1696296842,\n",
       "  \"status\": \"uploaded\",\n",
       "  \"status_details\": null\n",
       "}"
      ]
     },
     "execution_count": 21,
     "metadata": {},
     "output_type": "execute_result"
    }
   ],
   "source": [
    "openai.File.create(\n",
    "    file=open(\"../data/processed/test_dataset.jsonl\", \"rb\"),\n",
    "    purpose=\"fine-tune\",\n",
    ")"
   ]
  },
  {
   "cell_type": "markdown",
   "metadata": {},
   "source": [
    "check the status of these files by copying in the returned ID's above.\n",
    "If there are JSON errors they will be reported here."
   ]
  },
  {
   "cell_type": "code",
   "execution_count": 22,
   "metadata": {},
   "outputs": [
    {
     "data": {
      "text/plain": [
       "<File file id=file-rQH5EIMDnEtCCnK8EQP0L8E3 at 0x16e4508b0> JSON: {\n",
       "  \"object\": \"file\",\n",
       "  \"id\": \"file-rQH5EIMDnEtCCnK8EQP0L8E3\",\n",
       "  \"purpose\": \"fine-tune\",\n",
       "  \"filename\": \"file\",\n",
       "  \"bytes\": 177744,\n",
       "  \"created_at\": 1696296774,\n",
       "  \"status\": \"processed\",\n",
       "  \"status_details\": null\n",
       "}"
      ]
     },
     "execution_count": 22,
     "metadata": {},
     "output_type": "execute_result"
    }
   ],
   "source": [
    "openai.File.retrieve(\"file-rQH5EIMDnEtCCnK8EQP0L8E3\")"
   ]
  },
  {
   "cell_type": "code",
   "execution_count": 23,
   "metadata": {},
   "outputs": [
    {
     "data": {
      "text/plain": [
       "<File file id=file-c9x5QPEBp7qH63emV9osTSJw at 0x16eb73c90> JSON: {\n",
       "  \"object\": \"file\",\n",
       "  \"id\": \"file-c9x5QPEBp7qH63emV9osTSJw\",\n",
       "  \"purpose\": \"fine-tune\",\n",
       "  \"filename\": \"file\",\n",
       "  \"bytes\": 86439,\n",
       "  \"created_at\": 1696296842,\n",
       "  \"status\": \"processed\",\n",
       "  \"status_details\": null\n",
       "}"
      ]
     },
     "execution_count": 23,
     "metadata": {},
     "output_type": "execute_result"
    }
   ],
   "source": [
    "openai.File.retrieve(\"file-c9x5QPEBp7qH63emV9osTSJw\")"
   ]
  },
  {
   "cell_type": "markdown",
   "metadata": {},
   "source": [
    "Start out fine tuning job! Copy in the ID's for our uploaded training\n",
    "and validation files."
   ]
  },
  {
   "cell_type": "code",
   "execution_count": 25,
   "metadata": {},
   "outputs": [
    {
     "data": {
      "text/plain": [
       "<FineTuningJob fine_tuning.job id=ftjob-iF4OaSjzucNJRXshDmb0YYv9 at 0x16eb632e0> JSON: {\n",
       "  \"object\": \"fine_tuning.job\",\n",
       "  \"id\": \"ftjob-iF4OaSjzucNJRXshDmb0YYv9\",\n",
       "  \"model\": \"gpt-3.5-turbo-0613\",\n",
       "  \"created_at\": 1696297327,\n",
       "  \"finished_at\": null,\n",
       "  \"fine_tuned_model\": null,\n",
       "  \"organization_id\": \"org-e65yKoVCQyCbjVZoGsVdo8mQ\",\n",
       "  \"result_files\": [],\n",
       "  \"status\": \"validating_files\",\n",
       "  \"validation_file\": \"file-c9x5QPEBp7qH63emV9osTSJw\",\n",
       "  \"training_file\": \"file-rQH5EIMDnEtCCnK8EQP0L8E3\",\n",
       "  \"hyperparameters\": {\n",
       "    \"n_epochs\": \"auto\"\n",
       "  },\n",
       "  \"trained_tokens\": null,\n",
       "  \"error\": null\n",
       "}"
      ]
     },
     "execution_count": 25,
     "metadata": {},
     "output_type": "execute_result"
    }
   ],
   "source": [
    "openai.FineTuningJob.create(\n",
    "    training_file=\"file-rQH5EIMDnEtCCnK8EQP0L8E3\",\n",
    "    validation_file=\"file-c9x5QPEBp7qH63emV9osTSJw\",\n",
    "    model=\"gpt-3.5-turbo\",\n",
    ")"
   ]
  },
  {
   "cell_type": "markdown",
   "metadata": {},
   "source": [
    "Get general info about this job"
   ]
  },
  {
   "cell_type": "code",
   "execution_count": 26,
   "metadata": {},
   "outputs": [
    {
     "data": {
      "text/plain": [
       "<FineTuningJob fine_tuning.job id=ftjob-iF4OaSjzucNJRXshDmb0YYv9 at 0x16eb7d0d0> JSON: {\n",
       "  \"object\": \"fine_tuning.job\",\n",
       "  \"id\": \"ftjob-iF4OaSjzucNJRXshDmb0YYv9\",\n",
       "  \"model\": \"gpt-3.5-turbo-0613\",\n",
       "  \"created_at\": 1696297327,\n",
       "  \"finished_at\": null,\n",
       "  \"fine_tuned_model\": null,\n",
       "  \"organization_id\": \"org-e65yKoVCQyCbjVZoGsVdo8mQ\",\n",
       "  \"result_files\": [],\n",
       "  \"status\": \"running\",\n",
       "  \"validation_file\": \"file-c9x5QPEBp7qH63emV9osTSJw\",\n",
       "  \"training_file\": \"file-rQH5EIMDnEtCCnK8EQP0L8E3\",\n",
       "  \"hyperparameters\": {\n",
       "    \"n_epochs\": 5\n",
       "  },\n",
       "  \"trained_tokens\": null,\n",
       "  \"error\": null\n",
       "}"
      ]
     },
     "execution_count": 26,
     "metadata": {},
     "output_type": "execute_result"
    }
   ],
   "source": [
    "openai.FineTuningJob.retrieve(\"ftjob-iF4OaSjzucNJRXshDmb0YYv9\")"
   ]
  },
  {
   "cell_type": "markdown",
   "metadata": {},
   "source": [
    "Monitor its progress. When done, you can use the resulting fine tuned\n",
    "model ID in the playground (or the API)."
   ]
  },
  {
   "cell_type": "code",
   "execution_count": 32,
   "metadata": {},
   "outputs": [
    {
     "data": {
      "text/plain": [
       "<OpenAIObject list at 0x176095530> JSON: {\n",
       "  \"object\": \"list\",\n",
       "  \"data\": [\n",
       "    {\n",
       "      \"object\": \"fine_tuning.job.event\",\n",
       "      \"id\": \"ftevent-VthSo2qISWHEo4FBETxiNUD1\",\n",
       "      \"created_at\": 1696297699,\n",
       "      \"level\": \"info\",\n",
       "      \"message\": \"The job has successfully completed\",\n",
       "      \"data\": {},\n",
       "      \"type\": \"message\"\n",
       "    },\n",
       "    {\n",
       "      \"object\": \"fine_tuning.job.event\",\n",
       "      \"id\": \"ftevent-HnTyFSyAS5rRHqzRqvMd6tEq\",\n",
       "      \"created_at\": 1696297697,\n",
       "      \"level\": \"info\",\n",
       "      \"message\": \"New fine-tuned model created: ft:gpt-3.5-turbo-0613:personal::85OoCQC6\",\n",
       "      \"data\": {},\n",
       "      \"type\": \"message\"\n",
       "    },\n",
       "    {\n",
       "      \"object\": \"fine_tuning.job.event\",\n",
       "      \"id\": \"ftevent-hlSg00pSJqS6vNYIcLfzsmh0\",\n",
       "      \"created_at\": 1696297691,\n",
       "      \"level\": \"info\",\n",
       "      \"message\": \"Step 90/90: training loss=0.30, validation loss=0.62\",\n",
       "      \"data\": {\n",
       "        \"step\": 90,\n",
       "        \"train_loss\": 0.29875946044921875,\n",
       "        \"valid_loss\": 0.6187019972043617,\n",
       "        \"train_mean_token_accuracy\": 0.9124446511268616,\n",
       "        \"valid_mean_token_accuracy\": 0.7998032464338416\n",
       "      },\n",
       "      \"type\": \"metrics\"\n",
       "    },\n",
       "    {\n",
       "      \"object\": \"fine_tuning.job.event\",\n",
       "      \"id\": \"ftevent-N3rhqx7jQdd6D63pjlli8TJW\",\n",
       "      \"created_at\": 1696297687,\n",
       "      \"level\": \"info\",\n",
       "      \"message\": \"Step 89/90: training loss=0.86, validation loss=0.68\",\n",
       "      \"data\": {\n",
       "        \"step\": 89,\n",
       "        \"train_loss\": 0.8633356690406799,\n",
       "        \"valid_loss\": 0.6754550275776907,\n",
       "        \"train_mean_token_accuracy\": 0.7615647315979004,\n",
       "        \"valid_mean_token_accuracy\": 0.7719676549865229\n",
       "      },\n",
       "      \"type\": \"metrics\"\n",
       "    },\n",
       "    {\n",
       "      \"object\": \"fine_tuning.job.event\",\n",
       "      \"id\": \"ftevent-ukfPrvbr12gIdy2Ei015yIBR\",\n",
       "      \"created_at\": 1696297685,\n",
       "      \"level\": \"info\",\n",
       "      \"message\": \"Step 88/90: training loss=0.85, validation loss=0.49\",\n",
       "      \"data\": {\n",
       "        \"step\": 88,\n",
       "        \"train_loss\": 0.8546316027641296,\n",
       "        \"valid_loss\": 0.4926122357208507,\n",
       "        \"train_mean_token_accuracy\": 0.7550200819969177,\n",
       "        \"valid_mean_token_accuracy\": 0.8450565666502705\n",
       "      },\n",
       "      \"type\": \"metrics\"\n",
       "    },\n",
       "    {\n",
       "      \"object\": \"fine_tuning.job.event\",\n",
       "      \"id\": \"ftevent-0qrFV2ufqC1x4gMXm3pMnmQo\",\n",
       "      \"created_at\": 1696297683,\n",
       "      \"level\": \"info\",\n",
       "      \"message\": \"Step 87/90: training loss=0.47, validation loss=0.57\",\n",
       "      \"data\": {\n",
       "        \"step\": 87,\n",
       "        \"train_loss\": 0.46549203991889954,\n",
       "        \"valid_loss\": 0.5704084308172058,\n",
       "        \"train_mean_token_accuracy\": 0.8760452270507812,\n",
       "        \"valid_mean_token_accuracy\": 0.8128381701918347\n",
       "      },\n",
       "      \"type\": \"metrics\"\n",
       "    },\n",
       "    {\n",
       "      \"object\": \"fine_tuning.job.event\",\n",
       "      \"id\": \"ftevent-Y6Qqvcxe2mDnW11JXQFdwsgy\",\n",
       "      \"created_at\": 1696297679,\n",
       "      \"level\": \"info\",\n",
       "      \"message\": \"Step 86/90: training loss=0.50, validation loss=0.63\",\n",
       "      \"data\": {\n",
       "        \"step\": 86,\n",
       "        \"train_loss\": 0.5011575222015381,\n",
       "        \"valid_loss\": 0.6346172477245565,\n",
       "        \"train_mean_token_accuracy\": 0.8616714477539062,\n",
       "        \"valid_mean_token_accuracy\": 0.7911952779144122\n",
       "      },\n",
       "      \"type\": \"metrics\"\n",
       "    },\n",
       "    {\n",
       "      \"object\": \"fine_tuning.job.event\",\n",
       "      \"id\": \"ftevent-cvWf8PAJXFrP7FezsOsHk5zt\",\n",
       "      \"created_at\": 1696297677,\n",
       "      \"level\": \"info\",\n",
       "      \"message\": \"Step 85/90: training loss=0.77, validation loss=0.75\",\n",
       "      \"data\": {\n",
       "        \"step\": 85,\n",
       "        \"train_loss\": 0.7698832154273987,\n",
       "        \"valid_loss\": 0.7502473994422534,\n",
       "        \"train_mean_token_accuracy\": 0.7872602343559265,\n",
       "        \"valid_mean_token_accuracy\": 0.7616822429906542\n",
       "      },\n",
       "      \"type\": \"metrics\"\n",
       "    },\n",
       "    {\n",
       "      \"object\": \"fine_tuning.job.event\",\n",
       "      \"id\": \"ftevent-KRMXiK34QLgDJt5ZVS8mlR33\",\n",
       "      \"created_at\": 1696297675,\n",
       "      \"level\": \"info\",\n",
       "      \"message\": \"Step 84/90: training loss=0.33, validation loss=1.11\",\n",
       "      \"data\": {\n",
       "        \"step\": 84,\n",
       "        \"train_loss\": 0.33129236102104187,\n",
       "        \"valid_loss\": 1.1074784931383634,\n",
       "        \"train_mean_token_accuracy\": 0.911952793598175,\n",
       "        \"valid_mean_token_accuracy\": 0.6394490900147565\n",
       "      },\n",
       "      \"type\": \"metrics\"\n",
       "    },\n",
       "    {\n",
       "      \"object\": \"fine_tuning.job.event\",\n",
       "      \"id\": \"ftevent-MszU6o2RvP0RoZmR3kNceL0l\",\n",
       "      \"created_at\": 1696297671,\n",
       "      \"level\": \"info\",\n",
       "      \"message\": \"Step 83/90: training loss=0.75, validation loss=0.30\",\n",
       "      \"data\": {\n",
       "        \"step\": 83,\n",
       "        \"train_loss\": 0.753847599029541,\n",
       "        \"valid_loss\": 0.2978297905328528,\n",
       "        \"train_mean_token_accuracy\": 0.7963600754737854,\n",
       "        \"valid_mean_token_accuracy\": 0.8984259714707329\n",
       "      },\n",
       "      \"type\": \"metrics\"\n",
       "    }\n",
       "  ],\n",
       "  \"has_more\": true\n",
       "}"
      ]
     },
     "execution_count": 32,
     "metadata": {},
     "output_type": "execute_result"
    }
   ],
   "source": [
    "openai.FineTuningJob.list_events(id=\"ftjob-iF4OaSjzucNJRXshDmb0YYv9\", limit=10)"
   ]
  },
  {
   "cell_type": "markdown",
   "metadata": {},
   "source": [
    "For comparison, see how the non-fine-tuned GPT model does:"
   ]
  },
  {
   "cell_type": "code",
   "execution_count": 33,
   "metadata": {},
   "outputs": [
    {
     "name": "stdout",
     "output_type": "stream",
     "text": [
      "{\n",
      "  \"role\": \"assistant\",\n",
      "  \"content\": \"Here is a short melody in the ABC format:\\n\\nX: 1\\nT: Short Melody\\nM: 4/4\\nL: 1/8\\nK: C\\nC4 [ED]/2z/2C DE| \\nC2 cG GE EC| \\nF4 [FE]/2z/2D EF| \\nD2 GA GE FD| \\nC4 [ED]/2z/2C DE| \\nF4 [BA]/2z/2G AB| \\ncG AF EG FD| \\nD4 C2 z2| \\n\\nD4 FE DE| \\nGF dc BA GF| \\nE4 GF EF| \\nAG ed cB AG| \\nF2 dc BA GF| \\nE2 cB AG FE| \\nD2 G,A, B,C DE| \\nF2 EF GF DE| \\n\\nC4 [ED]/2z/2C DE| \\nC2 cG GE EC| \\nF4 [FE]/2z/2D EF| \\nD2 GA GE FD| \\nC4 [ED]/2z/2C DE| \\nF4 [BA]/2z/2G AB| \\ncG AF EG FD| \\nD4 C2 z2| \\n\\nG4 G2 G2| \\nG4 c2 e2| \\ng4 g2 g2| \\ne4 z4| \\nG4 G2 G2| \\nG4 c2 e2| \\ng2 z2 B2 z2| \\nc2 z2 [CE,]2 [CE,]2| \\n\\n[CE,]4 [CE,]4| \\n[CE,]8| \\nz8| \\nzC/2|\\n\\nYou can listen to this melody by using software or online tools that support ABC notation.\"\n",
      "}\n"
     ]
    }
   ],
   "source": [
    "completion = openai.ChatCompletion.create(\n",
    "    model=\"gpt-3.5-turbo\",\n",
    "    messages=[\n",
    "        {\n",
    "            \"role\": \"system\",\n",
    "            \"content\": \"You are a music AI that generates melodies in the ABC format.\",\n",
    "        },\n",
    "        {\"role\": \"user\", \"content\": \"Generate a short melody for me.\"},\n",
    "        {\n",
    "            \"role\": \"assistant\",\n",
    "            \"content\": \"ABC notation: X: 1 $ T: from data/interim/ps38_01_C_Major.mid $ M: 4/4 $ L: 1/8 $ Q:1/4=135 $ K:C % 0 sharps $ V:1 $ %%MIDI program 0 $ %%MIDI program 0 $ %%MIDI program 0 $ C4 [ED]/2z/2C DE|  C2 cG GE EC|  F4 [FE]/2z/2D EF|  D2 GA GE FD| $ C4 [ED]/2z/2C DE|  F4 [BA]/2z/2G AB|  cG AF EG FD|  D4 C2 z2| $ D4 FE DE|  GF dc BA GF|  E4 GF EF|  AG ed cB AG| $ F2 dc BA GF|  E2 cB AG FE|  D2 G,A, B,C DE|  F2 EF GF DE| $ C4 [ED]/2z/2C DE|  C2 cG GE EC|  F4 [FE]/2z/2D EF|  D2 GA GE FD| $ C4 [ED]/2z/2C DE|  F4 [BA]/2z/2G AB|  cG AF EG FD|  D4 C2 z2| $ D4 FE DE|  GF dc BA GF|  E4 GF EF|  AG ed cB AG| $ F2 dc BA GF|  E2 cB AG FE|  D2 G,A, B,C DE|  F2 EF GF DE| $ C4 [ED]/2z/2C DE|  C2 cG GE EC|  F4 [FE]/2z/2D EF|  D2 GA GE FD| $ C4 [ED]/2z/2C DE|  F4 [BA]/2z/2G AB|  cG AF EG FD|  D4 C2 z2| $ G4 G2 G2|  G4 c2 e2|  g4 g2 g2|  e4 z4| $ G4 G2 G2|  G4 c2 e2|  g2 z2 B2 z2|  c2 z2 [CE,]2 [CE,]2| $ [CE,]4 [CE,]4|  [CE,]8|  z8|  zC/2 $ V:2 $ %%MIDI program 0 $ %%MIDI program 0 $ %%MIDI program 0 $ [E,C,]4 [F,B,,]4|  [E,C,]2 z6|  [D,G,,]4 [C,G,,]4|  [B,,G,,]2 z6| $ C,G, E,G, C,^A, G,A,|  C,A, F,A, C,F, D,F,|  E,2 F,2 G,2 G,,2|  C,2 G,,2 C,,2 z2| $ B,,G,, B,,G,, C,G,, C,G,,|  D,2 z6|  C,G,, C,G,, D,G,, D,G,,|  E,2 z6| $ [D,G,,]2 z4 [B,,G,,]2|  [C,G,,]2 z4 [A,,G,,]2|  [B,,G,,]2 z6|  z8| $ [E,C,]4 [F,B,,]4|  [E,C,]2 z6|  [D,G,,]4 [C,G,,]4|  [B,,G,,]2 z6| $ C,G, E,G, C,^A, G,A,|  C,A, F,A, C,F, D,F,|  E,2 F,2 G,2 G,,2|  C,2 G,,2 C,,2 z2| $ B,,G,, B,,G,, C,G,, C,G,,|  D,2 z6|  C,G,, C,G,, D,G,, D,G,,|  E,2 z6| $ [D,G,,]2 z4 [B,,G,,]2|  [C,G,,]2 z4 [A,,G,,]2|  [B,,G,,]2 z6|  z8| $ [E,C,]4 [F,B,,]4|  [E,C,]2 z6|  [D,G,,]4 [C,G,,]4|  [B,,G,,]2 z6| $ C,G, E,G, C,^A, G,A,|  C,A, F,A, C,F, D,F,|  E,2 F,2 G,2 G,,2|  C,2 G,,2 C,,2 z2| $ G,,D, F,D, G,,D, F,D,|  G,,C, E,C, G,,C, E,C,|  G,,B,, D,B,, G,,B,, D,B,,|  G,,C, E,C, G,,C, E,C,| $ G,,D, F,D, G,,D, F,D,|  G,,C, E,C, G,,C, E,C,|  G,,B,, D,B,, G,,D, F,D,|  [E,C,]2 z2 C,,2 C,,2| $ C,,2 C,2 G,,2 E,,2|  C,,8| $ \",\n",
    "        },\n",
    "    ],\n",
    ")\n",
    "\n",
    "print(completion.choices[0].message)"
   ]
  },
  {
   "cell_type": "markdown",
   "metadata": {},
   "source": [
    "When it's done, try our fine-tuned model! Copy in our fine tuned ID."
   ]
  },
  {
   "cell_type": "code",
   "execution_count": 34,
   "metadata": {},
   "outputs": [
    {
     "name": "stdout",
     "output_type": "stream",
     "text": [
      "{\n",
      "  \"role\": \"assistant\",\n",
      "  \"content\": \"ABC notation: X: 1 $ T: from data/interim/ps38_18_F_major.mid $ M: 4/4 $ L: 1/8 $ Q:1/4=135 $ K:F % 1 flat $ V:1 $ %%MIDI program 0 $ %%MIDI program 0 $ %%MIDI program 0 $ F5/2F/2 GFE=F|  F2 z4 ABBc|  dedc ABB^A|  G2 z4 F5/2F/2| $ GFEF F4 z4|  G4 F4 GBdc|  BcBA GFE^D|  C2 z4 $\\\\part{2}$ [^Ff]8| $ [d_D]8|  [c_C]8|  [B,B,]8|  [c_C]5/2[c2C]/2 [B,B,]5/2[B,2B,]/2| $ [A,A,]5/2[A,2A,]/2 [G,G,]5/2[G,2G,]/2|  [A,3A,]/2E/2 [G,-E,]5/2[G,-E,]2|  [F,-D,]3/2D/2 [F,-D,]3/2F,/2[FD,]/2|  [E,2E,]4 [F,2F,]4| $ [G,2G,]4 [A,2A,]8|  [B,2B,]4 [c2c]2zB|  AGFE DCBD C=B,A,|  B,C/2D/2C/2B,/2 C2 z2 [FA,]/2| $ [FA,]4 [F^D,]4|  [F^D,]6/2[F,=D,]/2 [F,G,]4|  [FA,]5/2[F2A,]/2 [F^D,]5/2[F2D]/2|  [GC]5/2[G,2C,]/2 [GC]5/2[G,2C,]/2| $ zD G,F, D,G, [AG,F,][CG,]|  zD G,F, D,G, [AG,F,][CG,]|  zD G,F, D,G, [AG,F,][CG,]|  zD G,F, D,G, [AG,F,][CG,]| $ zD G,F, D,G, [AG,F,][CG,]|  zD =fF dF =fd|  fc dF ^CA, DF|  ^G,^A, G,F, ^CA, ^A,F,A,| $ ^G,F,D, G,^A, F,D^G, A,F,|  =fF dF ed ^cB|  c=B >[B,^A,][AB,] [G,=F,][GF,] FD D-B,|  CA, D=F, A,D F,=DA,| $ ^G,F,D, G,^A, F,D^G, A,F,|  =fF dF ed ^cB|  c=B F>G AG AF|  G>E ^D>F EG FD| $ ^C=D E>F GF ED|  C=B, D>C B,G, CG,|  F,2 z4 Cc-|  cB AF DF AF| $ GE CA, ECA, GF|  GE D^G D=G GF|  GE CA, ECA, GF|  G>E C>A C>G [EzE,]/2| $ [E,E,E,]4 [E,E,E,]4|  GFEF A^Gc A^GA|  B^AB gec gfe|  fdc AG=FE DC| $ B,A, ^G,F, G,=F, A,F,|  B,G, c/B/A/B/ c/B/A/G/ ^F,A,F,|  G,^F,G, ^F,G, ^F,F,-[A,A,]/2A,/2|  ^D=D- [D-D,-]/2D,/2D, [F,D,]4| $ [G,C,]4 [d_B,,]4|  [ZdG,-]4 [dG,]4|  [Zd^F,-]4 [dF,]4|  [ZzB,]2 zz B2| $ zz B2 zz [AG-]2|  zz G2 zz F2|  zz G2 zz F2|  zz F2 zz [EQ,]2| $ z4 z4|  z4 z4|  z2 zz ZZ|  /C/ [G-]4 [E-C,]4| $ [A,=E,]4 [F,-C,]4|  E2 D2 ^D2 E2|  F2 E2 [CA,]2 z2|  /C/ [G-]4 [E-C,]4| $ [A,=E,]4 [F,-C,]4|  E2 D2 ^D2 E2|  F2 E2 [CB,]2 z2|  /C/ [G-]4 [E-C,]4| $ [A,=E,]4 [F,-C,]4|  E2 D2 ^D2 E2|  F2 E2 D2 ^D2|  E2 z2 z2| $ z2 [E4E,]/2[EC,]/2 z2 [F4F,]/2[FD,]/2|  z2 zz ZZ|  E2 D2 C2 B,2|  C2 z2 C2 z2| $ C2 z2 C2 z2|  z2 F,G, Z[DCG,]/2|  [FG,]2 [F2G,]/2 [FG,]2[F2G,]/2 [FG,]2[F2G,]/2|  [FG,]2 z2 [DCG,]2 z2| $ z2 A,A, Z/F,/A,/G,/ [E-A,-][C-G,]|  z2 A,A, Z/F,/A,/G,/ [E-A,-][C-G,]|  z2 A,A, Z/F,/A,/G,/ [E-A,-][C-G,]|  z2 A,A, Z/F,/A,/G,/ [E-A,-][C-G,]| $ z2 A,A, Z/F,/A,/G,/ [E-A,-][C-G,]|  z2 A,A, Z/F,/A,/G,/ [E-A,-][C-G,]|  z4 z4|  z4 z4| $ [F4F,]/2z/2 Fc- cf|  dz zB [d-B,][GB,]|  [F4F,]/2z/2 Fc- cf|  ed cG AG AF| $ GE CA, E^cA, ^cBc|  dcdc B^AAG ^GFFE|  D2z2 [AC-]2 [A^F-]2|  [A^F-]4 z2 z2| $ [AE-]2 [AE-]2 [GF-]2 [GF-]2|\\\\end{ABC\"\n",
      "}\n"
     ]
    }
   ],
   "source": [
    "completion = openai.ChatCompletion.create(\n",
    "    model=\"ft:gpt-3.5-turbo-0613:personal::85OoCQC6\",\n",
    "    messages=[\n",
    "        {\n",
    "            \"role\": \"system\",\n",
    "            \"content\": \"You are a music AI that generates melodies in the ABC format.\",\n",
    "        },\n",
    "        {\"role\": \"user\", \"content\": \"Generate a short melody for me.\"},\n",
    "        {\n",
    "            \"role\": \"assistant\",\n",
    "            \"content\": \"ABC notation: X: 1 $ T: from data/interim/ps38_01_C_Major.mid $ M: 4/4 $ L: 1/8 $ Q:1/4=135 $ K:C % 0 sharps $ V:1 $ %%MIDI program 0 $ %%MIDI program 0 $ %%MIDI program 0 $ C4 [ED]/2z/2C DE|  C2 cG GE EC|  F4 [FE]/2z/2D EF|  D2 GA GE FD| $ C4 [ED]/2z/2C DE|  F4 [BA]/2z/2G AB|  cG AF EG FD|  D4 C2 z2| $ D4 FE DE|  GF dc BA GF|  E4 GF EF|  AG ed cB AG| $ F2 dc BA GF|  E2 cB AG FE|  D2 G,A, B,C DE|  F2 EF GF DE| $ C4 [ED]/2z/2C DE|  C2 cG GE EC|  F4 [FE]/2z/2D EF|  D2 GA GE FD| $ C4 [ED]/2z/2C DE|  F4 [BA]/2z/2G AB|  cG AF EG FD|  D4 C2 z2| $ D4 FE DE|  GF dc BA GF|  E4 GF EF|  AG ed cB AG| $ F2 dc BA GF|  E2 cB AG FE|  D2 G,A, B,C DE|  F2 EF GF DE| $ C4 [ED]/2z/2C DE|  C2 cG GE EC|  F4 [FE]/2z/2D EF|  D2 GA GE FD| $ C4 [ED]/2z/2C DE|  F4 [BA]/2z/2G AB|  cG AF EG FD|  D4 C2 z2| $ G4 G2 G2|  G4 c2 e2|  g4 g2 g2|  e4 z4| $ G4 G2 G2|  G4 c2 e2|  g2 z2 B2 z2|  c2 z2 [CE,]2 [CE,]2| $ [CE,]4 [CE,]4|  [CE,]8|  z8|  zC/2 $ V:2 $ %%MIDI program 0 $ %%MIDI program 0 $ %%MIDI program 0 $ [E,C,]4 [F,B,,]4|  [E,C,]2 z6|  [D,G,,]4 [C,G,,]4|  [B,,G,,]2 z6| $ C,G, E,G, C,^A, G,A,|  C,A, F,A, C,F, D,F,|  E,2 F,2 G,2 G,,2|  C,2 G,,2 C,,2 z2| $ B,,G,, B,,G,, C,G,, C,G,,|  D,2 z6|  C,G,, C,G,, D,G,, D,G,,|  E,2 z6| $ [D,G,,]2 z4 [B,,G,,]2|  [C,G,,]2 z4 [A,,G,,]2|  [B,,G,,]2 z6|  z8| $ [E,C,]4 [F,B,,]4|  [E,C,]2 z6|  [D,G,,]4 [C,G,,]4|  [B,,G,,]2 z6| $ C,G, E,G, C,^A, G,A,|  C,A, F,A, C,F, D,F,|  E,2 F,2 G,2 G,,2|  C,2 G,,2 C,,2 z2| $ B,,G,, B,,G,, C,G,, C,G,,|  D,2 z6|  C,G,, C,G,, D,G,, D,G,,|  E,2 z6| $ [D,G,,]2 z4 [B,,G,,]2|  [C,G,,]2 z4 [A,,G,,]2|  [B,,G,,]2 z6|  z8| $ [E,C,]4 [F,B,,]4|  [E,C,]2 z6|  [D,G,,]4 [C,G,,]4|  [B,,G,,]2 z6| $ C,G, E,G, C,^A, G,A,|  C,A, F,A, C,F, D,F,|  E,2 F,2 G,2 G,,2|  C,2 G,,2 C,,2 z2| $ G,,D, F,D, G,,D, F,D,|  G,,C, E,C, G,,C, E,C,|  G,,B,, D,B,, G,,B,, D,B,,|  G,,C, E,C, G,,C, E,C,| $ G,,D, F,D, G,,D, F,D,|  G,,C, E,C, G,,C, E,C,|  G,,B,, D,B,, G,,D, F,D,|  [E,C,]2 z2 C,,2 C,,2| $ C,,2 C,2 G,,2 E,,2|  C,,8| $ \",\n",
    "        },\n",
    "    ],\n",
    ")\n",
    "\n",
    "print(completion.choices[0].message)"
   ]
  },
  {
   "cell_type": "markdown",
   "metadata": {},
   "source": [
    "Let's save the output as an ABC format music file:"
   ]
  },
  {
   "cell_type": "code",
   "execution_count": 35,
   "metadata": {},
   "outputs": [],
   "source": [
    "import os\n",
    "import json\n",
    "\n",
    "def write_abc_file(completion_message: dict, filename: str) -> None:\n",
    "    \"\"\"\n",
    "    Write ABC notation to a file.\n",
    "\n",
    "    Parameters:\n",
    "    completion_message (dict): The completion message containing ABC notation as a string.\n",
    "    filename (str): The name of the file to write to.\n",
    "\n",
    "    Returns:\n",
    "    None: Writes the ABC notation to a file.\n",
    "    \"\"\"\n",
    "    # Extract and process the ABC notation string to format it correctly\n",
    "    abc_notation = completion_message['content']\n",
    "    formatted_abc = abc_notation.replace('$', '\\n').replace('\\\\end{ABC}', '').strip()\n",
    "\n",
    "    # Set the path to save the file\n",
    "    output_path = os.path.join('..', 'data', 'processed', f\"{filename}.abc\")\n",
    "\n",
    "    # Write the formatted ABC notation to a file\n",
    "    with open(output_path, 'w') as file:\n",
    "        file.write(formatted_abc)"
   ]
  },
  {
   "cell_type": "code",
   "execution_count": 39,
   "metadata": {},
   "outputs": [],
   "source": [
    "# Example usage:\n",
    "example_message = completion.choices[\n",
    "    0\n",
    "].message  # assuming completion.choices[0].message contains the relevant dictionary\n",
    "write_abc_file(\n",
    "    example_message, \"tuned_model_example_00\"\n",
    ")  # This will create a file at ../data/processed/example_filename.abc"
   ]
  },
  {
   "cell_type": "markdown",
   "metadata": {},
   "source": [
    "From ABC format file to MIDI file. The `music21` library can also\n",
    "convert ABC to MIDI. First, you need to install the library:"
   ]
  },
  {
   "cell_type": "code",
   "execution_count": 41,
   "metadata": {},
   "outputs": [
    {
     "ename": "ABCHandlerException",
     "evalue": "no active default note length provided for note processing. tPrev: None, token: <music21.abcFormat.ABCNote 'A'>, tNext: <music21.abcFormat.ABCNote 'B'>",
     "output_type": "error",
     "traceback": [
      "\u001b[0;31m---------------------------------------------------------------------------\u001b[0m",
      "\u001b[0;31mABCHandlerException\u001b[0m                       Traceback (most recent call last)",
      "\u001b[1;32m/Users/markeyser/Projects/genai-music-lab/notebooks/fine-tuning-gpt35-turbo.ipynb Cell 36\u001b[0m line \u001b[0;36m1\n\u001b[1;32m     <a href='vscode-notebook-cell:/Users/markeyser/Projects/genai-music-lab/notebooks/fine-tuning-gpt35-turbo.ipynb#X53sZmlsZQ%3D%3D?line=11'>12</a>\u001b[0m     mf\u001b[39m.\u001b[39mclose()\n\u001b[1;32m     <a href='vscode-notebook-cell:/Users/markeyser/Projects/genai-music-lab/notebooks/fine-tuning-gpt35-turbo.ipynb#X53sZmlsZQ%3D%3D?line=14'>15</a>\u001b[0m \u001b[39m# Usage example:\u001b[39;00m\n\u001b[0;32m---> <a href='vscode-notebook-cell:/Users/markeyser/Projects/genai-music-lab/notebooks/fine-tuning-gpt35-turbo.ipynb#X53sZmlsZQ%3D%3D?line=15'>16</a>\u001b[0m abc_to_midi(\n\u001b[1;32m     <a href='vscode-notebook-cell:/Users/markeyser/Projects/genai-music-lab/notebooks/fine-tuning-gpt35-turbo.ipynb#X53sZmlsZQ%3D%3D?line=16'>17</a>\u001b[0m     \u001b[39m\"\u001b[39;49m\u001b[39m../data/processed/tuned_model_example_00.abc\u001b[39;49m\u001b[39m\"\u001b[39;49m,\n\u001b[1;32m     <a href='vscode-notebook-cell:/Users/markeyser/Projects/genai-music-lab/notebooks/fine-tuning-gpt35-turbo.ipynb#X53sZmlsZQ%3D%3D?line=17'>18</a>\u001b[0m     \u001b[39m\"\u001b[39;49m\u001b[39m../data/processed/tuned_model_example_00.mid\u001b[39;49m\u001b[39m\"\u001b[39;49m,\n\u001b[1;32m     <a href='vscode-notebook-cell:/Users/markeyser/Projects/genai-music-lab/notebooks/fine-tuning-gpt35-turbo.ipynb#X53sZmlsZQ%3D%3D?line=18'>19</a>\u001b[0m )\n",
      "\u001b[1;32m/Users/markeyser/Projects/genai-music-lab/notebooks/fine-tuning-gpt35-turbo.ipynb Cell 36\u001b[0m line \u001b[0;36m6\n\u001b[1;32m      <a href='vscode-notebook-cell:/Users/markeyser/Projects/genai-music-lab/notebooks/fine-tuning-gpt35-turbo.ipynb#X53sZmlsZQ%3D%3D?line=3'>4</a>\u001b[0m \u001b[39mdef\u001b[39;00m \u001b[39mabc_to_midi\u001b[39m(abc_file_path, midi_file_path):\n\u001b[1;32m      <a href='vscode-notebook-cell:/Users/markeyser/Projects/genai-music-lab/notebooks/fine-tuning-gpt35-turbo.ipynb#X53sZmlsZQ%3D%3D?line=4'>5</a>\u001b[0m     \u001b[39m# Parse ABC file\u001b[39;00m\n\u001b[0;32m----> <a href='vscode-notebook-cell:/Users/markeyser/Projects/genai-music-lab/notebooks/fine-tuning-gpt35-turbo.ipynb#X53sZmlsZQ%3D%3D?line=5'>6</a>\u001b[0m     abc_score \u001b[39m=\u001b[39m converter\u001b[39m.\u001b[39;49mparse(abc_file_path, \u001b[39mformat\u001b[39;49m\u001b[39m=\u001b[39;49m\u001b[39m\"\u001b[39;49m\u001b[39mabc\u001b[39;49m\u001b[39m\"\u001b[39;49m)\n\u001b[1;32m      <a href='vscode-notebook-cell:/Users/markeyser/Projects/genai-music-lab/notebooks/fine-tuning-gpt35-turbo.ipynb#X53sZmlsZQ%3D%3D?line=7'>8</a>\u001b[0m     \u001b[39m# Write to MIDI\u001b[39;00m\n\u001b[1;32m      <a href='vscode-notebook-cell:/Users/markeyser/Projects/genai-music-lab/notebooks/fine-tuning-gpt35-turbo.ipynb#X53sZmlsZQ%3D%3D?line=8'>9</a>\u001b[0m     mf \u001b[39m=\u001b[39m midi\u001b[39m.\u001b[39mtranslate\u001b[39m.\u001b[39mmusic21ObjectToMidiFile(abc_score)\n",
      "File \u001b[0;32m~/miniforge3/envs/genai-music-lab-env/lib/python3.10/site-packages/music21/converter/__init__.py:1297\u001b[0m, in \u001b[0;36mparse\u001b[0;34m(value, forceSource, number, format, **keywords)\u001b[0m\n\u001b[1;32m   1294\u001b[0m     \u001b[39mreturn\u001b[39;00m parseData(value, number\u001b[39m=\u001b[39mnumber, \u001b[39mformat\u001b[39m\u001b[39m=\u001b[39m\u001b[39mformat\u001b[39m, \u001b[39m*\u001b[39m\u001b[39m*\u001b[39mkeywords)\n\u001b[1;32m   1295\u001b[0m \u001b[39melif\u001b[39;00m (\u001b[39mnot\u001b[39;00m \u001b[39misinstance\u001b[39m(value, \u001b[39mbytes\u001b[39m)\n\u001b[1;32m   1296\u001b[0m       \u001b[39mand\u001b[39;00m _osCanLoad(valueStr)):\n\u001b[0;32m-> 1297\u001b[0m     \u001b[39mreturn\u001b[39;00m parseFile(valueStr, number\u001b[39m=\u001b[39;49mnumber, \u001b[39mformat\u001b[39;49m\u001b[39m=\u001b[39;49m\u001b[39mformat\u001b[39;49m,\n\u001b[1;32m   1298\u001b[0m                      forceSource\u001b[39m=\u001b[39;49mforceSource, \u001b[39m*\u001b[39;49m\u001b[39m*\u001b[39;49mkeywords)\n\u001b[1;32m   1299\u001b[0m \u001b[39melif\u001b[39;00m (\u001b[39mnot\u001b[39;00m \u001b[39misinstance\u001b[39m(value, \u001b[39mbytes\u001b[39m)\n\u001b[1;32m   1300\u001b[0m       \u001b[39mand\u001b[39;00m _osCanLoad(common\u001b[39m.\u001b[39mcleanpath(valueStr))):\n\u001b[1;32m   1301\u001b[0m     \u001b[39mreturn\u001b[39;00m parseFile(common\u001b[39m.\u001b[39mcleanpath(valueStr), number\u001b[39m=\u001b[39mnumber, \u001b[39mformat\u001b[39m\u001b[39m=\u001b[39m\u001b[39mformat\u001b[39m,\n\u001b[1;32m   1302\u001b[0m                      forceSource\u001b[39m=\u001b[39mforceSource, \u001b[39m*\u001b[39m\u001b[39m*\u001b[39mkeywords)\n",
      "File \u001b[0;32m~/miniforge3/envs/genai-music-lab-env/lib/python3.10/site-packages/music21/converter/__init__.py:1151\u001b[0m, in \u001b[0;36mparseFile\u001b[0;34m(fp, number, format, forceSource, **keywords)\u001b[0m\n\u001b[1;32m   1149\u001b[0m v \u001b[39m=\u001b[39m Converter()\n\u001b[1;32m   1150\u001b[0m fp \u001b[39m=\u001b[39m common\u001b[39m.\u001b[39mcleanpath(fp, returnPathlib\u001b[39m=\u001b[39m\u001b[39mTrue\u001b[39;00m)\n\u001b[0;32m-> 1151\u001b[0m v\u001b[39m.\u001b[39;49mparseFile(fp, number\u001b[39m=\u001b[39;49mnumber, \u001b[39mformat\u001b[39;49m\u001b[39m=\u001b[39;49m\u001b[39mformat\u001b[39;49m, forceSource\u001b[39m=\u001b[39;49mforceSource, \u001b[39m*\u001b[39;49m\u001b[39m*\u001b[39;49mkeywords)\n\u001b[1;32m   1152\u001b[0m \u001b[39mif\u001b[39;00m t\u001b[39m.\u001b[39mTYPE_CHECKING:\n\u001b[1;32m   1153\u001b[0m     \u001b[39massert\u001b[39;00m \u001b[39misinstance\u001b[39m(v\u001b[39m.\u001b[39mstream, (stream\u001b[39m.\u001b[39mScore, stream\u001b[39m.\u001b[39mPart, stream\u001b[39m.\u001b[39mOpus))\n",
      "File \u001b[0;32m~/miniforge3/envs/genai-music-lab-env/lib/python3.10/site-packages/music21/converter/__init__.py:621\u001b[0m, in \u001b[0;36mConverter.parseFile\u001b[0;34m(self, fp, number, format, forceSource, storePickle, **keywords)\u001b[0m\n\u001b[1;32m    619\u001b[0m \u001b[39melse\u001b[39;00m:\n\u001b[1;32m    620\u001b[0m     environLocal\u001b[39m.\u001b[39mprintDebug(\u001b[39m'\u001b[39m\u001b[39mLoading original version\u001b[39m\u001b[39m'\u001b[39m)\n\u001b[0;32m--> 621\u001b[0m     \u001b[39mself\u001b[39;49m\u001b[39m.\u001b[39;49mparseFileNoPickle(fp, number, \u001b[39mformat\u001b[39;49m, forceSource, \u001b[39m*\u001b[39;49m\u001b[39m*\u001b[39;49mkeywords)\n\u001b[1;32m    622\u001b[0m     \u001b[39mif\u001b[39;00m writePickle \u001b[39mis\u001b[39;00m \u001b[39mTrue\u001b[39;00m \u001b[39mand\u001b[39;00m fpPickle \u001b[39mis\u001b[39;00m \u001b[39mnot\u001b[39;00m \u001b[39mNone\u001b[39;00m \u001b[39mand\u001b[39;00m storePickle \u001b[39mis\u001b[39;00m \u001b[39mTrue\u001b[39;00m:\n\u001b[1;32m    623\u001b[0m         \u001b[39m# save the stream to disk...\u001b[39;00m\n\u001b[1;32m    624\u001b[0m         environLocal\u001b[39m.\u001b[39mprintDebug(\u001b[39m'\u001b[39m\u001b[39mFreezing Pickle\u001b[39m\u001b[39m'\u001b[39m)\n",
      "File \u001b[0;32m~/miniforge3/envs/genai-music-lab-env/lib/python3.10/site-packages/music21/converter/__init__.py:543\u001b[0m, in \u001b[0;36mConverter.parseFileNoPickle\u001b[0;34m(self, fp, number, format, forceSource, **keywords)\u001b[0m\n\u001b[1;32m    541\u001b[0m \u001b[39mself\u001b[39m\u001b[39m.\u001b[39msubConverter\u001b[39m.\u001b[39mkeywords \u001b[39m=\u001b[39m keywords\n\u001b[1;32m    542\u001b[0m \u001b[39mtry\u001b[39;00m:\n\u001b[0;32m--> 543\u001b[0m     \u001b[39mself\u001b[39;49m\u001b[39m.\u001b[39;49msubConverter\u001b[39m.\u001b[39;49mparseFile(\n\u001b[1;32m    544\u001b[0m         fp,\n\u001b[1;32m    545\u001b[0m         number\u001b[39m=\u001b[39;49mnumber,\n\u001b[1;32m    546\u001b[0m         \u001b[39m*\u001b[39;49m\u001b[39m*\u001b[39;49mkeywords\n\u001b[1;32m    547\u001b[0m     )\n\u001b[1;32m    548\u001b[0m \u001b[39mexcept\u001b[39;00m \u001b[39mNotImplementedError\u001b[39;00m:\n\u001b[1;32m    549\u001b[0m     \u001b[39mraise\u001b[39;00m ConverterFileException(\u001b[39mf\u001b[39m\u001b[39m'\u001b[39m\u001b[39mFile is not in a correct format: \u001b[39m\u001b[39m{\u001b[39;00mfp\u001b[39m}\u001b[39;00m\u001b[39m'\u001b[39m)\n",
      "File \u001b[0;32m~/miniforge3/envs/genai-music-lab-env/lib/python3.10/site-packages/music21/converter/subConverters.py:1273\u001b[0m, in \u001b[0;36mConverterABC.parseFile\u001b[0;34m(self, filePath, number, **keywords)\u001b[0m\n\u001b[1;32m   1271\u001b[0m af\u001b[39m.\u001b[39mopen(filePath)\n\u001b[1;32m   1272\u001b[0m \u001b[39m# returns a handler instance of parse tokens\u001b[39;00m\n\u001b[0;32m-> 1273\u001b[0m abcHandler \u001b[39m=\u001b[39m af\u001b[39m.\u001b[39;49mread(number\u001b[39m=\u001b[39;49mnumber)\n\u001b[1;32m   1274\u001b[0m af\u001b[39m.\u001b[39mclose()\n\u001b[1;32m   1276\u001b[0m \u001b[39m# only create opus if multiple ref numbers\u001b[39;00m\n\u001b[1;32m   1277\u001b[0m \u001b[39m# are defined; if a number is given an opus will not be created\u001b[39;00m\n",
      "File \u001b[0;32m~/miniforge3/envs/genai-music-lab-env/lib/python3.10/site-packages/music21/abcFormat/__init__.py:3311\u001b[0m, in \u001b[0;36mABCFile.read\u001b[0;34m(self, number)\u001b[0m\n\u001b[1;32m   3304\u001b[0m \u001b[39mdef\u001b[39;00m \u001b[39mread\u001b[39m(\u001b[39mself\u001b[39m, number\u001b[39m=\u001b[39m\u001b[39mNone\u001b[39;00m):\n\u001b[1;32m   3305\u001b[0m \u001b[39m    \u001b[39m\u001b[39m'''\u001b[39;00m\n\u001b[1;32m   3306\u001b[0m \u001b[39m    Read a file. Note that this calls readstr,\u001b[39;00m\n\u001b[1;32m   3307\u001b[0m \u001b[39m    which processes all tokens.\u001b[39;00m\n\u001b[1;32m   3308\u001b[0m \n\u001b[1;32m   3309\u001b[0m \u001b[39m    If `number` is given, a work number will be extracted if possible.\u001b[39;00m\n\u001b[1;32m   3310\u001b[0m \u001b[39m    '''\u001b[39;00m\n\u001b[0;32m-> 3311\u001b[0m     \u001b[39mreturn\u001b[39;00m \u001b[39mself\u001b[39;49m\u001b[39m.\u001b[39;49mreadstr(\u001b[39mself\u001b[39;49m\u001b[39m.\u001b[39;49mfile\u001b[39m.\u001b[39;49mread(), number)\n",
      "File \u001b[0;32m~/miniforge3/envs/genai-music-lab-env/lib/python3.10/site-packages/music21/abcFormat/__init__.py:3392\u001b[0m, in \u001b[0;36mABCFile.readstr\u001b[0;34m(self, strSrc, number)\u001b[0m\n\u001b[1;32m   3390\u001b[0m handler \u001b[39m=\u001b[39m ABCHandler(abcVersion\u001b[39m=\u001b[39m\u001b[39mself\u001b[39m\u001b[39m.\u001b[39mabcVersion)\n\u001b[1;32m   3391\u001b[0m \u001b[39m# return the handler instance\u001b[39;00m\n\u001b[0;32m-> 3392\u001b[0m handler\u001b[39m.\u001b[39;49mprocess(strSrc)\n\u001b[1;32m   3393\u001b[0m \u001b[39mreturn\u001b[39;00m handler\n",
      "File \u001b[0;32m~/miniforge3/envs/genai-music-lab-env/lib/python3.10/site-packages/music21/abcFormat/__init__.py:2623\u001b[0m, in \u001b[0;36mABCHandler.process\u001b[0;34m(self, strSrc)\u001b[0m\n\u001b[1;32m   2621\u001b[0m \u001b[39mself\u001b[39m\u001b[39m.\u001b[39mtokens \u001b[39m=\u001b[39m []\n\u001b[1;32m   2622\u001b[0m \u001b[39mself\u001b[39m\u001b[39m.\u001b[39mtokenize(strSrc)\n\u001b[0;32m-> 2623\u001b[0m \u001b[39mself\u001b[39;49m\u001b[39m.\u001b[39;49mtokenProcess()\n",
      "File \u001b[0;32m~/miniforge3/envs/genai-music-lab-env/lib/python3.10/site-packages/music21/abcFormat/__init__.py:2573\u001b[0m, in \u001b[0;36mABCHandler.tokenProcess\u001b[0;34m(self)\u001b[0m\n\u001b[1;32m   2571\u001b[0m \u001b[39mif\u001b[39;00m \u001b[39misinstance\u001b[39m(token, (ABCNote, ABCChord)):\n\u001b[1;32m   2572\u001b[0m     \u001b[39mif\u001b[39;00m lastDefaultQL \u001b[39mis\u001b[39;00m \u001b[39mNone\u001b[39;00m:\n\u001b[0;32m-> 2573\u001b[0m         \u001b[39mraise\u001b[39;00m ABCHandlerException(\n\u001b[1;32m   2574\u001b[0m             \u001b[39m'\u001b[39m\u001b[39mno active default note length provided for note processing. \u001b[39m\u001b[39m'\u001b[39m\n\u001b[1;32m   2575\u001b[0m             \u001b[39m+\u001b[39m \u001b[39mf\u001b[39m\u001b[39m'\u001b[39m\u001b[39mtPrev: \u001b[39m\u001b[39m{\u001b[39;00mtPrev\u001b[39m}\u001b[39;00m\u001b[39m, token: \u001b[39m\u001b[39m{\u001b[39;00mtoken\u001b[39m}\u001b[39;00m\u001b[39m, tNext: \u001b[39m\u001b[39m{\u001b[39;00mtNext\u001b[39m}\u001b[39;00m\u001b[39m'\u001b[39m\n\u001b[1;32m   2576\u001b[0m         )\n\u001b[1;32m   2577\u001b[0m     token\u001b[39m.\u001b[39mactiveDefaultQuarterLength \u001b[39m=\u001b[39m lastDefaultQL\n\u001b[1;32m   2578\u001b[0m     token\u001b[39m.\u001b[39mactiveKeySignature \u001b[39m=\u001b[39m lastKeySignature\n",
      "\u001b[0;31mABCHandlerException\u001b[0m: no active default note length provided for note processing. tPrev: None, token: <music21.abcFormat.ABCNote 'A'>, tNext: <music21.abcFormat.ABCNote 'B'>"
     ]
    }
   ],
   "source": [
    "from music21 import *\n",
    "\n",
    "\n",
    "def abc_to_midi(abc_file_path, midi_file_path):\n",
    "    # Parse ABC file\n",
    "    abc_score = converter.parse(abc_file_path, format=\"abc\")\n",
    "\n",
    "    # Write to MIDI\n",
    "    mf = midi.translate.music21ObjectToMidiFile(abc_score)\n",
    "    mf.open(midi_file_path, \"wb\")\n",
    "    mf.write()\n",
    "    mf.close()\n",
    "\n",
    "\n",
    "# Usage example:\n",
    "abc_to_midi(\n",
    "    \"../data/processed/tuned_model_example_00.abc\",\n",
    "    \"../data/processed/tuned_model_example_00.mid\",\n",
    ")"
   ]
  },
  {
   "cell_type": "markdown",
   "metadata": {},
   "source": [
    "## References\n",
    "\n",
    "- [Creating Data from Star Trek with OpenAI's new Fine-Tuning API for GPT 3.5!](https://youtu.be/NjQP7jRqkBU?si=xx7dc_-DoH9hTdJ5)"
   ]
  },
  {
   "cell_type": "markdown",
   "metadata": {},
   "source": [
    "## Create a music sheet from an ABC format using MuseScore\n",
    "\n",
    "Certainly! Below are the summarized steps to create a music sheet from\n",
    "an ABC file using MuseScore:\n",
    "\n",
    "### 1. **Install MuseScore:**\n",
    "   - Download and install MuseScore from the [official\n",
    "     website](https://musescore.org/).\n",
    "   - Ensure it’s accessible from your system's path.\n",
    "\n",
    "### 2. **Set MuseScore Path in music21:**\n",
    "   - Find the path where MuseScore is installed.\n",
    "   - Set this path in the music21 environment. You can do this\n",
    "     programmatically using Python:\n",
    "\n",
    "    ```python\n",
    "    from music21 import environment\n",
    "    env = environment.Environment()\n",
    "    env['musicxmlPath'] = '/path/to/MuseScore'\n",
    "    env['musescoreDirectPNGPath'] = '/path/to/MuseScore'\n",
    "    ```\n",
    "\n",
    "### 3. **Convert ABC to Music Sheet:**\n",
    "   - Parse the ABC file using music21 and show or save the sheet music.\n",
    "\n",
    "    ```python\n",
    "    from music21 import converter\n",
    "    \n",
    "    # Parse ABC file\n",
    "    abcScore = converter.parse('your_abc_file.abc', format='abc')\n",
    "    \n",
    "    # Show the score (this will open MuseScore with the parsed music)\n",
    "    abcScore.show()\n",
    "    ```\n",
    "\n",
    "### 4. **Save as PDF or Other Formats (Optional):**\n",
    "   - You can save the sheet music in various formats like PDF, PNG,\n",
    "     etc., using MuseScore's GUI or programmatically.\n",
    "\n",
    "### Notes:\n",
    "   - Ensure you have the necessary Python libraries installed, such as\n",
    "     `music21`.\n",
    "   - The path to MuseScore might differ based on your operating system\n",
    "     and installation method, so adjust it accordingly.\n",
    "   - If you encounter issues, check the error messages for clues and\n",
    "     ensure your ABC file is correctly formatted.\n",
    "\n",
    "### Conclusion:\n",
    "With these steps, you should be able to convert ABC notation files into\n",
    "sheet music using the MuseScore software and the music21 Python library.\n",
    "Adjust the paths and filenames as necessary to match your system and\n",
    "files."
   ]
  },
  {
   "cell_type": "code",
   "execution_count": 46,
   "metadata": {},
   "outputs": [],
   "source": [
    "from music21 import *\n",
    "from music21 import environment"
   ]
  },
  {
   "cell_type": "code",
   "execution_count": 51,
   "metadata": {},
   "outputs": [],
   "source": [
    "from music21 import environment\n",
    "\n",
    "# Set the path to MuseScore\n",
    "env = environment.Environment()\n",
    "env['musicxmlPath'] = '/Applications/MuseScore 4.app/Contents/MacOS/mscore'\n",
    "env['musescoreDirectPNGPath'] = '/Applications/MuseScore 4.app/Contents/MacOS/mscore'\n"
   ]
  },
  {
   "cell_type": "code",
   "execution_count": 52,
   "metadata": {},
   "outputs": [
    {
     "name": "stdout",
     "output_type": "stream",
     "text": [
      "{'directoryScratch': None, 'lilypondPath': '/Applications/Lilypond.app/Contents/Resources/bin/lilypond', 'lilypondVersion': None, 'lilypondFormat': 'pdf', 'lilypondBackend': 'ps', 'musicxmlPath': '/Applications/MuseScore 4.app/Contents/MacOS/mscore', 'midiPath': '/Applications/GarageBand.app', 'graphicsPath': '/System/Applications/Preview.app', 'vectorPath': '/System/Applications/Preview.app', 'pdfPath': '/System/Applications/Preview.app', 'braillePath': None, 'musescoreDirectPNGPath': '/Applications/MuseScore 4.app/Contents/MacOS/mscore', 'showFormat': 'musicxml', 'writeFormat': 'musicxml', 'ipythonShowFormat': 'ipython.musicxml.png', 'autoDownload': 'ask', 'debug': 0, 'warnings': 1, 'localCorpusSettings': LocalCorpusSettings([]), 'localCorporaSettings': {}, 'manualCoreCorpusPath': None}\n"
     ]
    }
   ],
   "source": [
    "# Print the environment settings to verify the path\n",
    "print(environment.Environment())"
   ]
  },
  {
   "cell_type": "code",
   "execution_count": 50,
   "metadata": {},
   "outputs": [
    {
     "data": {
      "image/png": "[encoded data removed]",
      "text/plain": [
       "<IPython.core.display.Image object>"
      ]
     },
     "metadata": {
      "image/png": {
       "height": 1100,
       "width": 850
      }
     },
     "output_type": "display_data"
    }
   ],
   "source": [
    "# Load ABC file\n",
    "abcScore = converter.parse('../data/processed/gentle_night_lullaby.abc', format='abc')\n",
    "\n",
    "# Show the score\n",
    "abcScore.show()"
   ]
  },
  {
   "cell_type": "code",
   "execution_count": 62,
   "metadata": {},
   "outputs": [
    {
     "name": "stderr",
     "output_type": "stream",
     "text": [
      "/var/folders/v1/n9k_fx4s7sl6cwlq6swmjxcc0000gn/T/ipykernel_59506/2146393708.py:33: GradioDeprecationWarning: Usage of gradio.inputs is deprecated, and will not be supported in the future, please import your component from gradio.components\n",
      "  inputs=gr.inputs.Textbox(lines=20), # Textbox for user to input ABC notation\n",
      "/var/folders/v1/n9k_fx4s7sl6cwlq6swmjxcc0000gn/T/ipykernel_59506/2146393708.py:33: GradioDeprecationWarning: `optional` parameter is deprecated, and it has no effect\n",
      "  inputs=gr.inputs.Textbox(lines=20), # Textbox for user to input ABC notation\n",
      "/var/folders/v1/n9k_fx4s7sl6cwlq6swmjxcc0000gn/T/ipykernel_59506/2146393708.py:33: GradioDeprecationWarning: `numeric` parameter is deprecated, and it has no effect\n",
      "  inputs=gr.inputs.Textbox(lines=20), # Textbox for user to input ABC notation\n"
     ]
    },
    {
     "name": "stdout",
     "output_type": "stream",
     "text": [
      "Running on local URL:  http://127.0.0.1:7864\n",
      "\n",
      "To create a public link, set `share=True` in `launch()`.\n"
     ]
    },
    {
     "data": {
      "text/html": [
       "<div><iframe src=\"http://127.0.0.1:7864/\" width=\"100%\" height=\"500\" allow=\"autoplay; camera; microphone; clipboard-read; clipboard-write;\" frameborder=\"0\" allowfullscreen></iframe></div>"
      ],
      "text/plain": [
       "<IPython.core.display.HTML object>"
      ]
     },
     "metadata": {},
     "output_type": "display_data"
    },
    {
     "data": {
      "text/plain": []
     },
     "execution_count": 62,
     "metadata": {},
     "output_type": "execute_result"
    },
    {
     "name": "stderr",
     "output_type": "stream",
     "text": [
      "Traceback (most recent call last):\n",
      "  File \"/Users/markeyser/miniforge3/envs/genai-music-lab-env/lib/python3.10/site-packages/gradio/routes.py\", line 508, in predict\n",
      "    output = await route_utils.call_process_api(\n",
      "  File \"/Users/markeyser/miniforge3/envs/genai-music-lab-env/lib/python3.10/site-packages/gradio/route_utils.py\", line 219, in call_process_api\n",
      "    output = await app.get_blocks().process_api(\n",
      "  File \"/Users/markeyser/miniforge3/envs/genai-music-lab-env/lib/python3.10/site-packages/gradio/blocks.py\", line 1440, in process_api\n",
      "    data = self.postprocess_data(fn_index, result[\"prediction\"], state)\n",
      "  File \"/Users/markeyser/miniforge3/envs/genai-music-lab-env/lib/python3.10/site-packages/gradio/blocks.py\", line 1341, in postprocess_data\n",
      "    prediction_value = block.postprocess(prediction_value)\n",
      "  File \"/Users/markeyser/miniforge3/envs/genai-music-lab-env/lib/python3.10/site-packages/gradio/components/image.py\", line 318, in postprocess\n",
      "    return client_utils.encode_url_or_file_to_base64(y)\n",
      "  File \"/Users/markeyser/miniforge3/envs/genai-music-lab-env/lib/python3.10/site-packages/gradio_client/utils.py\", line 387, in encode_url_or_file_to_base64\n",
      "    return encode_file_to_base64(path)\n",
      "  File \"/Users/markeyser/miniforge3/envs/genai-music-lab-env/lib/python3.10/site-packages/gradio_client/utils.py\", line 360, in encode_file_to_base64\n",
      "    with open(f, \"rb\") as file:\n",
      "FileNotFoundError: [Errno 2] No such file or directory: 'temp_music_sheet.png'\n",
      "Traceback (most recent call last):\n",
      "  File \"/Users/markeyser/miniforge3/envs/genai-music-lab-env/lib/python3.10/site-packages/gradio/routes.py\", line 508, in predict\n",
      "    output = await route_utils.call_process_api(\n",
      "  File \"/Users/markeyser/miniforge3/envs/genai-music-lab-env/lib/python3.10/site-packages/gradio/route_utils.py\", line 219, in call_process_api\n",
      "    output = await app.get_blocks().process_api(\n",
      "  File \"/Users/markeyser/miniforge3/envs/genai-music-lab-env/lib/python3.10/site-packages/gradio/blocks.py\", line 1437, in process_api\n",
      "    result = await self.call_function(\n",
      "  File \"/Users/markeyser/miniforge3/envs/genai-music-lab-env/lib/python3.10/site-packages/gradio/blocks.py\", line 1109, in call_function\n",
      "    prediction = await anyio.to_thread.run_sync(\n",
      "  File \"/Users/markeyser/miniforge3/envs/genai-music-lab-env/lib/python3.10/site-packages/anyio/to_thread.py\", line 33, in run_sync\n",
      "    return await get_async_backend().run_sync_in_worker_thread(\n",
      "  File \"/Users/markeyser/miniforge3/envs/genai-music-lab-env/lib/python3.10/site-packages/anyio/_backends/_asyncio.py\", line 2106, in run_sync_in_worker_thread\n",
      "    return await future\n",
      "  File \"/Users/markeyser/miniforge3/envs/genai-music-lab-env/lib/python3.10/site-packages/anyio/_backends/_asyncio.py\", line 833, in run\n",
      "    result = context.run(func, *args)\n",
      "  File \"/Users/markeyser/miniforge3/envs/genai-music-lab-env/lib/python3.10/site-packages/gradio/utils.py\", line 641, in wrapper\n",
      "    response = f(*args, **kwargs)\n",
      "  File \"/var/folders/v1/n9k_fx4s7sl6cwlq6swmjxcc0000gn/T/ipykernel_59506/2146393708.py\", line 21, in show_sheet\n",
      "    abc_to_musicxml(abc_notation, xml_file_path)\n",
      "  File \"/var/folders/v1/n9k_fx4s7sl6cwlq6swmjxcc0000gn/T/ipykernel_59506/2146393708.py\", line 8, in abc_to_musicxml\n",
      "    abc_score = converter.parse(abc_notation, format='abc')\n",
      "  File \"/Users/markeyser/miniforge3/envs/genai-music-lab-env/lib/python3.10/site-packages/music21/converter/__init__.py\", line 1301, in parse\n",
      "    return parseFile(common.cleanpath(valueStr), number=number, format=format,\n",
      "  File \"/Users/markeyser/miniforge3/envs/genai-music-lab-env/lib/python3.10/site-packages/music21/converter/__init__.py\", line 1151, in parseFile\n",
      "    v.parseFile(fp, number=number, format=format, forceSource=forceSource, **keywords)\n",
      "  File \"/Users/markeyser/miniforge3/envs/genai-music-lab-env/lib/python3.10/site-packages/music21/converter/__init__.py\", line 621, in parseFile\n",
      "    self.parseFileNoPickle(fp, number, format, forceSource, **keywords)\n",
      "  File \"/Users/markeyser/miniforge3/envs/genai-music-lab-env/lib/python3.10/site-packages/music21/converter/__init__.py\", line 543, in parseFileNoPickle\n",
      "    self.subConverter.parseFile(\n",
      "  File \"/Users/markeyser/miniforge3/envs/genai-music-lab-env/lib/python3.10/site-packages/music21/converter/subConverters.py\", line 1271, in parseFile\n",
      "    af.open(filePath)\n",
      "  File \"/Users/markeyser/miniforge3/envs/genai-music-lab-env/lib/python3.10/site-packages/music21/abcFormat/__init__.py\", line 3283, in open\n",
      "    self.file = io.open(filename, encoding='utf-8')  # pylint: disable=consider-using-with\n",
      "IsADirectoryError: [Errno 21] Is a directory: '/Users/markeyser/Projects/genai-music-lab/notebooks'\n",
      "Traceback (most recent call last):\n",
      "  File \"/Users/markeyser/miniforge3/envs/genai-music-lab-env/lib/python3.10/site-packages/gradio/routes.py\", line 508, in predict\n",
      "    output = await route_utils.call_process_api(\n",
      "  File \"/Users/markeyser/miniforge3/envs/genai-music-lab-env/lib/python3.10/site-packages/gradio/route_utils.py\", line 219, in call_process_api\n",
      "    output = await app.get_blocks().process_api(\n",
      "  File \"/Users/markeyser/miniforge3/envs/genai-music-lab-env/lib/python3.10/site-packages/gradio/blocks.py\", line 1440, in process_api\n",
      "    data = self.postprocess_data(fn_index, result[\"prediction\"], state)\n",
      "  File \"/Users/markeyser/miniforge3/envs/genai-music-lab-env/lib/python3.10/site-packages/gradio/blocks.py\", line 1341, in postprocess_data\n",
      "    prediction_value = block.postprocess(prediction_value)\n",
      "  File \"/Users/markeyser/miniforge3/envs/genai-music-lab-env/lib/python3.10/site-packages/gradio/components/image.py\", line 318, in postprocess\n",
      "    return client_utils.encode_url_or_file_to_base64(y)\n",
      "  File \"/Users/markeyser/miniforge3/envs/genai-music-lab-env/lib/python3.10/site-packages/gradio_client/utils.py\", line 387, in encode_url_or_file_to_base64\n",
      "    return encode_file_to_base64(path)\n",
      "  File \"/Users/markeyser/miniforge3/envs/genai-music-lab-env/lib/python3.10/site-packages/gradio_client/utils.py\", line 360, in encode_file_to_base64\n",
      "    with open(f, \"rb\") as file:\n",
      "FileNotFoundError: [Errno 2] No such file or directory: 'temp_music_sheet.png'\n",
      "Traceback (most recent call last):\n",
      "  File \"/Users/markeyser/miniforge3/envs/genai-music-lab-env/lib/python3.10/site-packages/gradio/routes.py\", line 508, in predict\n",
      "    output = await route_utils.call_process_api(\n",
      "  File \"/Users/markeyser/miniforge3/envs/genai-music-lab-env/lib/python3.10/site-packages/gradio/route_utils.py\", line 219, in call_process_api\n",
      "    output = await app.get_blocks().process_api(\n",
      "  File \"/Users/markeyser/miniforge3/envs/genai-music-lab-env/lib/python3.10/site-packages/gradio/blocks.py\", line 1440, in process_api\n",
      "    data = self.postprocess_data(fn_index, result[\"prediction\"], state)\n",
      "  File \"/Users/markeyser/miniforge3/envs/genai-music-lab-env/lib/python3.10/site-packages/gradio/blocks.py\", line 1341, in postprocess_data\n",
      "    prediction_value = block.postprocess(prediction_value)\n",
      "  File \"/Users/markeyser/miniforge3/envs/genai-music-lab-env/lib/python3.10/site-packages/gradio/components/image.py\", line 318, in postprocess\n",
      "    return client_utils.encode_url_or_file_to_base64(y)\n",
      "  File \"/Users/markeyser/miniforge3/envs/genai-music-lab-env/lib/python3.10/site-packages/gradio_client/utils.py\", line 387, in encode_url_or_file_to_base64\n",
      "    return encode_file_to_base64(path)\n",
      "  File \"/Users/markeyser/miniforge3/envs/genai-music-lab-env/lib/python3.10/site-packages/gradio_client/utils.py\", line 360, in encode_file_to_base64\n",
      "    with open(f, \"rb\") as file:\n",
      "FileNotFoundError: [Errno 2] No such file or directory: 'temp_music_sheet.png'\n"
     ]
    }
   ],
   "source": [
    "import gradio as gr\n",
    "from music21 import converter\n",
    "import os\n",
    "import subprocess\n",
    "\n",
    "# Step 1: Convert ABC to MusicXML using Music21\n",
    "def abc_to_musicxml(abc_notation, xml_file_path):\n",
    "    abc_score = converter.parse(abc_notation, format='abc')\n",
    "    abc_score.write('musicxml', xml_file_path)\n",
    "\n",
    "# Step 2: Render MusicXML to PNG using MuseScore\n",
    "def musicxml_to_png(xml_file_path, png_file_path, musescore_path):\n",
    "    subprocess.run([musescore_path, \"-o\", png_file_path, xml_file_path])\n",
    "\n",
    "# Step 3: Display PNG using Gradio\n",
    "def show_sheet(abc_notation):\n",
    "    xml_file_path = \"temp_music_sheet.xml\"\n",
    "    png_file_path = \"temp_music_sheet.png\"\n",
    "    \n",
    "    # Convert ABC to MusicXML\n",
    "    abc_to_musicxml(abc_notation, xml_file_path)\n",
    "    \n",
    "    # Convert MusicXML to PNG\n",
    "    musescore_path = \"/Applications/MuseScore 4.app/Contents/MacOS/mscore\"\n",
    "    musicxml_to_png(xml_file_path, png_file_path, musescore_path)\n",
    "    \n",
    "    # Return PNG for Gradio UI\n",
    "    return png_file_path\n",
    "\n",
    "# Define Gradio UI\n",
    "iface = gr.Interface(\n",
    "    fn=show_sheet,                      # Function to be called on user input\n",
    "    inputs=gr.inputs.Textbox(lines=20), # Textbox for user to input ABC notation\n",
    "    outputs=\"image\",                    # Output is an image\n",
    "    live=True                           # Update output on every change to input\n",
    ")\n",
    "\n",
    "# Launch Gradio UI\n",
    "iface.launch()\n",
    "\n",
    "\n"
   ]
  },
  {
   "cell_type": "code",
   "execution_count": 59,
   "metadata": {},
   "outputs": [],
   "source": [
    "import gradio as gr\n",
    "from music21 import converter\n",
    "import os\n",
    "import subprocess\n",
    "\n",
    "# Step 1: Convert ABC to MusicXML using Music21\n",
    "def abc_to_musicxml(abc_file_path, xml_file_path):\n",
    "    abc_score = converter.parse(abc_file_path, format='abc')\n",
    "    abc_score.write('musicxml', xml_file_path)\n",
    "\n",
    "    \n",
    "    # Convert ABC to MusicXML\n",
    "    abc_file_path = '../data/processed/gentle_night_lullaby.abc'\n",
    "    xml_file_path = '../data/processed/gentle_night_lullaby.xml'\n",
    "    abc_to_musicxml(abc_file_path, xml_file_path)"
   ]
  },
  {
   "cell_type": "code",
   "execution_count": null,
   "metadata": {},
   "outputs": [],
   "source": []
  }
 ],
 "metadata": {
  "kernelspec": {
   "display_name": "genai-music-lab-env",
   "language": "python",
   "name": "python3"
  },
  "language_info": {
   "codemirror_mode": {
    "name": "ipython",
    "version": 3
   },
   "file_extension": ".py",
   "mimetype": "text/x-python",
   "name": "python",
   "nbconvert_exporter": "python",
   "pygments_lexer": "ipython3",
   "version": "3.10.11"
  },
  "orig_nbformat": 4
 },
 "nbformat": 4,
 "nbformat_minor": 2
}
